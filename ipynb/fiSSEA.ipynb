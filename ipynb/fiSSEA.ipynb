{
 "metadata": {
  "name": ""
 },
 "nbformat": 3,
 "nbformat_minor": 0,
 "worksheets": [
  {
   "cells": [
    {
     "cell_type": "markdown",
     "metadata": {},
     "source": [
      "<center><h1> Functional Impact SNP Set Enrichment (fiSSEA) </h1></center>\n",
      "<center><h4>Authors: Erick R. Scott, Adam Mark, Ali Torkamani, Chunlei Wu & Andrew Su</h4></center>\n",
      "<center><h4>November 2014</h4></center>"
     ]
    },
    {
     "cell_type": "heading",
     "level": 1,
     "metadata": {},
     "source": [
      "Libraries"
     ]
    },
    {
     "cell_type": "code",
     "collapsed": false,
     "input": [
      "import os, sys, time, gc, argparse\n",
      "import json, httplib2\n",
      "\n",
      "sys.path.append('../pandasVCF/src/single_sample/')\n",
      "from pdVCFsingle import *\n",
      "from variantAnnotations import *\n",
      "sys.path.append('../myvariant/src/')\n",
      "import myvariant\n",
      "import pandas as pd\n",
      "from pandas.io.json import json_normalize\n",
      "import mygene\n",
      "import numpy as np\n"
     ],
     "language": "python",
     "metadata": {},
     "outputs": [],
     "prompt_number": 1
    },
    {
     "cell_type": "heading",
     "level": 1,
     "metadata": {},
     "source": [
      "VCF CDS Variants"
     ]
    },
    {
     "cell_type": "code",
     "collapsed": false,
     "input": [
      "def intersect_cds_vcf(vcf_path, cds_path, write_path):\n",
      "    os.system('bedtools intersect -a ' + vcf_path + ' -b ' + cds_path + ' -wa -header |uniq > ' + write_path )\n",
      "    return write_path"
     ],
     "language": "python",
     "metadata": {},
     "outputs": [],
     "prompt_number": 5
    },
    {
     "cell_type": "code",
     "collapsed": false,
     "input": [
      "#gparents = ['NA12889', 'NA12890', 'NA12891', 'NA12892']\n",
      "# vcf_path = '/Users/ers_vader/datasets_raw/RTG/phasing_annotated.vcf.gz'\n",
      "# os.system('bedtools intersect -a '+ vcf_path + ' -b refseq_exon_no_chr.bed -wa -header > CEPH_cds_snps.vcf')\n",
      "\n"
     ],
     "language": "python",
     "metadata": {},
     "outputs": [],
     "prompt_number": 6
    },
    {
     "cell_type": "code",
     "collapsed": false,
     "input": [
      "\n"
     ],
     "language": "python",
     "metadata": {},
     "outputs": [
      {
       "output_type": "stream",
       "stream": "stdout",
       "text": [
        "#CHROM\tPOS\tID\tREF\tALT\tQUAL\tFILTER\tINFO\tFORMAT\tTB0001907\t\r\n"
       ]
      }
     ],
     "prompt_number": 411
    },
    {
     "cell_type": "code",
     "collapsed": false,
     "input": [
      "'''\n",
      "NOTES: \n",
      "    CHROM is never an int because of sex chromosomes\n",
      "    Removing 'chr' from CHROM will also change the CHROM index\n",
      "    value when add_variant_annotations is called\n",
      "    \n",
      "\n",
      "'''\n",
      "\n",
      "#open Vcf object\n",
      "vcf_df = Vcf('../data/cds_snps.vcf', 'TB0001907', ['#CHROM', 'POS', 'REF', 'ALT', 'FILTER', 'FORMAT'], chunksize=1000000)\n",
      "\n",
      "#read in vcf chunk\n",
      "vcf_df.get_vcf_df_chunk()\n",
      "\n",
      "#drop duplicate vcf lines, if necessary\n",
      "vcf_df.df = vcf_df.df.drop_duplicates(subset=['CHROM', 'POS'])\n",
      "\n",
      "#remove empty variant lines\n",
      "vcf_df.df = vcf_df.df[vcf_df.df.ALT!='.']\n",
      "\n",
      "#replace chr if necessary, depends on format of annotations\n",
      "vcf_df.df['CHROM'] = vcf_df.df['CHROM'].str.replace('chr', '')\n",
      "\n",
      "#parse vcf lines\n",
      "vcf_df.add_variant_annotations( inplace=True, verbose=True)"
     ],
     "language": "python",
     "metadata": {},
     "outputs": [
      {
       "output_type": "stream",
       "stream": "stdout",
       "text": [
        "input variant rows: 27452\n",
        "dropping 0 variants with genotype call == \".\" \n",
        "current variant rows: 27452\n"
       ]
      },
      {
       "metadata": {},
       "output_type": "pyout",
       "prompt_number": 413,
       "text": [
        "0"
       ]
      }
     ],
     "prompt_number": 413
    },
    {
     "cell_type": "heading",
     "level": 1,
     "metadata": {},
     "source": [
      "Adding Annotations"
     ]
    },
    {
     "cell_type": "heading",
     "level": 3,
     "metadata": {},
     "source": [
      "Annotations from dbNSFP"
     ]
    },
    {
     "cell_type": "code",
     "collapsed": false,
     "input": [
      "def get_dbnsfp_cadd(vcf_c, dbnsfp_cols):\n",
      "    '''\n",
      "    This function joins dbNSFP annotations to the supplied\n",
      "    vcf pandas df\n",
      "    \n",
      "    vcf_c: (vcf_df, chromosome str)\n",
      "    \n",
      "    example columns ['#chr', 'pos(1-coor)', 'ref', 'alt', 'CADD_raw','genename', '1000Gp1_EUR_AF', 'MutationAssessor_score' ]\n",
      "    '''\n",
      "    \n",
      "    vcf, c = vcf_c\n",
      "    \n",
      "    \n",
      "    dbnsfp = pd.read_table('/Users/ers_vader/datasets_raw/dbNSFPv2.7/dbNSFP2.7_variant.chr' + c + '.gz',sep='\\t',compression='gzip', usecols=dbnsfp_cols)   \n",
      "    cols = list(dbnsfp.columns)\n",
      "    cols[:4] = ['CHROM', 'POS', 'REF', 'ALT']\n",
      "    dbnsfp.columns = cols\n",
      "    dbnsfp['CHROM'] = dbnsfp['CHROM'].astype(str)\n",
      "    dbnsfp.set_index(['CHROM', 'POS', 'REF', 'ALT'], inplace=True)\n",
      "    \n",
      "    vcf.reset_index(inplace=True)\n",
      "    vcf['CHROM'] = vcf['CHROM'].astype(str)\n",
      "    vcf = vcf[vcf['CHROM'].astype(str) == str(c)]\n",
      "    vcf.set_index(['CHROM', 'POS', 'REF', 'ALT'], inplace=True)\n",
      "    vcf = vcf.join(dbnsfp,how='left')\n",
      "    vcf['CADD_raw'].fillna(value=0,inplace=True)\n",
      "    return vcf\n",
      "\n"
     ],
     "language": "python",
     "metadata": {},
     "outputs": [],
     "prompt_number": 414
    },
    {
     "cell_type": "code",
     "collapsed": false,
     "input": [
      "chrom_range = map(str,range(1,23))\n",
      "chrom_range.extend(['X'])\n",
      "tasks = []\n",
      "for c in chrom_range:\n",
      "    tasks.append( (ceph_df.df.copy(), c) )\n",
      "\n",
      "import multiprocessing as mp\n",
      "pool = mp.Pool(12)\n",
      "results = []\n",
      "r = pool.map_async(get_dbnsfp_cadd, tasks, callback=results.append)    \n",
      "r.wait()# Wait on the results \n",
      "pool.close()\n",
      "pool.join()\n",
      "\n"
     ],
     "language": "python",
     "metadata": {},
     "outputs": [],
     "prompt_number": 19
    },
    {
     "cell_type": "code",
     "collapsed": false,
     "input": [
      "vcf_df_annot = pd.concat(results[0])\n",
      "vcf_df_annot.dropna(subset=['genename'],inplace=True)"
     ],
     "language": "python",
     "metadata": {},
     "outputs": [],
     "prompt_number": 20
    },
    {
     "cell_type": "code",
     "collapsed": false,
     "input": [
      "vcf_df_annot.reset_index(inplace=True)\n",
      "vcf_df_annot = vcf_df_annot.drop_duplicates(subset=['CHROM', 'POS', 'REF', 'ALT','genename'])\n",
      "vcf_df_annot.set_index(['CHROM', 'POS', 'REF', 'ALT'], inplace=True)"
     ],
     "language": "python",
     "metadata": {},
     "outputs": [],
     "prompt_number": 24
    },
    {
     "cell_type": "heading",
     "level": 3,
     "metadata": {},
     "source": [
      "Annotations from MyVariant.info Query and Parsing"
     ]
    },
    {
     "cell_type": "code",
     "collapsed": false,
     "input": [
      "reload(myvariant)\n",
      "mv = myvariant.MyVariantInfo()\n",
      "\n",
      "#%timeit a = mv.query_variant(\"chr2:179392080-179669337\", size=2000)"
     ],
     "language": "python",
     "metadata": {},
     "outputs": [],
     "prompt_number": 415
    },
    {
     "cell_type": "code",
     "collapsed": false,
     "input": [
      "\n",
      "def myvariant_post(hgvs_list):\n",
      "    '''\n",
      "    Expects list length 1000\n",
      "    Raw Elastic Search Results\n",
      "    \n",
      "    '''\n",
      "    \n",
      "    def normalize(con):\n",
      "        '''\n",
      "        This function uses the json.loads and json_normalize\n",
      "        modules to flatten the myvariant.info results\n",
      "        '''\n",
      "        temp_df = json_normalize(json.loads(con), 'docs')\n",
      "        source_parsed = []\n",
      "        for source_json in temp_df['_source'].values:\n",
      "            try:\n",
      "                source_parsed.append(json_normalize(source_json))\n",
      "            except TypeError:  #occurs with empty results\n",
      "                pass\n",
      "        return pd.concat(source_parsed)\n",
      "    \n",
      "    \n",
      "    \n",
      "    if type(hgvs_list) == list:\n",
      "        hgvs_list = ','.join(hgvs_list)\n",
      "        \n",
      "    assert type(hgvs_list) == str\n",
      "    \n",
      "    h = httplib2.Http()\n",
      "    headers = {'content-type': 'application/x-www-form-urlencoded'}\n",
      "    params = 'ids=' + hgvs_list +\",size=1000\"  #can pass a dictionary\n",
      "    #print params\n",
      "    res, con = h.request('http://myvariant.info:8001/api/variant/', 'POST', params, headers=headers)\n",
      "    \n",
      "    \n",
      "    mv_df = normalize(con)\n",
      "    mv_df.index = mv_df['_id']\n",
      "\n",
      "    return mv_df\n",
      "    "
     ],
     "language": "python",
     "metadata": {},
     "outputs": [],
     "prompt_number": 4
    },
    {
     "cell_type": "code",
     "collapsed": false,
     "input": [
      "def chunks(l, n):\n",
      "    \"\"\" \n",
      "    Yield successive n-sized chunks from l.\n",
      "    \"\"\"\n",
      "    l = list(l)\n",
      "    chunk_list = []\n",
      "    for i in xrange(0, len(l), n):\n",
      "        chunk_list.append( l[i:i+n] )\n",
      "    return chunk_list"
     ],
     "language": "python",
     "metadata": {},
     "outputs": [],
     "prompt_number": 417
    },
    {
     "cell_type": "code",
     "collapsed": false,
     "input": [
      "\n",
      "    \n",
      "def get_myvariant_snp_annot(vcf_df_mv):\n",
      "    '''\n",
      "    Returns myvariant.info annotations for all snps for\n",
      "    input vcf pandas dataframe. Submits myvariant.info\n",
      "    POST request in snp batches of 1000.\n",
      "    \n",
      "    Parameters\n",
      "    -------------\n",
      "    vcf_df_mv: pandas df; required\n",
      "    \n",
      "        vcf_df_mv must contain the following columns:\n",
      "            vartype1, vartype2, CHROM, REF, POS, a1, a2\n",
      "            *please see pandasVCF docs for column definitions\n",
      "            \n",
      "\n",
      "    Output\n",
      "    -------------\n",
      "    myvariant.info results: pandas df\n",
      "    '''\n",
      "    \n",
      "    \n",
      "    def chunks(l, n):\n",
      "        \"\"\" \n",
      "        Yield successive n-sized chunks from l.\n",
      "        \"\"\"\n",
      "        l = list(l)\n",
      "        chunk_list = []\n",
      "        for i in xrange(0, len(l), n):\n",
      "            chunk_list.append( l[i:i+n] )\n",
      "        return chunk_list\n",
      "    \n",
      "    \n",
      " \n",
      "    if 'CHROM' not in vcf_df_mv.columns:\n",
      "        vcf_df_mv.reset_index(inplace=True)\n",
      "        \n",
      "    \n",
      "    vcf_df_mv = vcf_df_mv[(vcf_df_mv['vartype1'] == 'snp') | (vcf_df_mv['vartype2'] == 'snp')] #restrict to snps\n",
      "\n",
      "    non_ref_a1 = vcf_df_mv[vcf_df_mv['REF'] != vcf_df_mv['a1']][['CHROM', 'POS', 'REF', 'a1']]  #restrict a1 to non-reference alleles\n",
      "    hgvs_a1 = 'chr' + non_ref_a1['CHROM'].astype(str) + \":g.\" + non_ref_a1['POS'].astype(str)  \\\n",
      "                                 + non_ref_a1['REF'] + '>' +  non_ref_a1['a1']\n",
      "\n",
      "    non_ref_a2 = vcf_df_mv[vcf_df_mv['REF'] != vcf_df_mv['a2']][['CHROM', 'POS', 'REF', 'a2']]  #restrict a2 to non-reference alleles\n",
      "    hgvs_a2 = 'chr' + non_ref_a2['CHROM'].astype(str) + \":g.\" + non_ref_a2['POS'].astype(str) \\\n",
      "                                 + non_ref_a2['REF'] + '>' +  non_ref_a2['a2']\n",
      "\n",
      "\n",
      "    hgvs_ids = set(hgvs_a1.values) | set(hgvs_a2.values)  #set of non-reference a1 and a2 snps\n",
      "\n",
      "    hgvs_ids_chunks = chunks(hgvs_ids, 1000)  #batch queries of hgvs a1 and a2 variants, n=1000\n",
      "\n",
      "    myvariant_results = map(myvariant_post, hgvs_ids_chunks)\n",
      "        \n",
      "    return myvariant_results\n",
      "    \n",
      "    "
     ],
     "language": "python",
     "metadata": {},
     "outputs": [],
     "prompt_number": 10
    },
    {
     "cell_type": "code",
     "collapsed": false,
     "input": [
      "%time testing = get_myvariant_snp_annot(vcf_df.df)\n"
     ],
     "language": "python",
     "metadata": {},
     "outputs": [
      {
       "output_type": "stream",
       "stream": "stdout",
       "text": [
        "CPU times: user 3min 39s, sys: 1.09 s, total: 3min 40s\n",
        "Wall time: 5min 2s\n"
       ]
      }
     ],
     "prompt_number": 420
    },
    {
     "cell_type": "code",
     "collapsed": false,
     "input": [
      "mv_annot = pd.concat(testing)"
     ],
     "language": "python",
     "metadata": {},
     "outputs": [],
     "prompt_number": 421
    },
    {
     "cell_type": "code",
     "collapsed": false,
     "input": [
      "mv_annot.columns"
     ],
     "language": "python",
     "metadata": {},
     "outputs": [
      {
       "metadata": {},
       "output_type": "pyout",
       "prompt_number": 467,
       "text": [
        "Index([u'_id', u'_index', u'_score', u'_source._id', u'_source.cosmic.allele1', u'_source.cosmic.allele2', u'_source.cosmic.chrom', u'_source.cosmic.chromEnd', u'_source.cosmic.chromStart', u'_source.cosmic.mut_freq', u'_source.cosmic.mut_nt', u'_source.cosmic.tumor_site', u'_source.dbsnp.allele1', u'_source.dbsnp.allele2', u'_source.dbsnp.chrom', u'_source.dbsnp.chromEnd', u'_source.dbsnp.chromStart', u'_source.dbsnp.func', u'_source.dbsnp.rsid', u'_source.dbsnp.snpclass', u'_source.dbsnp.strand', u'_source.gwassnps.allele1', u'_source.gwassnps.allele2', u'_source.gwassnps.chrom', u'_source.gwassnps.chromEnd', u'_source.gwassnps.chromStart', u'_source.gwassnps.pubmedID', u'_source.gwassnps.rsid', u'_source.gwassnps.trait', u'_source.mutdb.allele1', u'_source.mutdb.allele2', u'_source.mutdb.chrom', u'_source.mutdb.chromEnd', u'_source.mutdb.chromStart', u'_source.mutdb.cosmic_id', u'_source.mutdb.dbsnp_id', u'_source.mutdb.mutpred_score', u'_source.mutdb.strand', u'_source.mutdb.uniprot_id', u'_source.snpedia.text', u'_type', u'dbnsfp.1000gp1.ac', u'dbnsfp.1000gp1.af', u'dbnsfp.1000gp1.afr_ac', u'dbnsfp.1000gp1.afr_af', u'dbnsfp.1000gp1.amr_ac', u'dbnsfp.1000gp1.amr_af', u'dbnsfp.1000gp1.asn_ac', u'dbnsfp.1000gp1.asn_af', u'dbnsfp.1000gp1.eur_ac', u'dbnsfp.1000gp1.eur_af', u'dbnsfp.aa', u'dbnsfp.aa.aapos_fathmm', u'dbnsfp.aa.aapos_sift', u'dbnsfp.aa.alt', u'dbnsfp.aa.codonpos', u'dbnsfp.aa.pos', u'dbnsfp.aa.ref', u'dbnsfp.aa.refcodon', u'dbnsfp.allele1', u'dbnsfp.allele2', u'dbnsfp.ancestral_allele', u'dbnsfp.aric5606.aa_ac', u'dbnsfp.aric5606.aa_af', u'dbnsfp.aric5606.ea_ac', u'dbnsfp.aric5606.ea_af', u'dbnsfp.cadd.phred', u'dbnsfp.cadd.raw', u'dbnsfp.cadd.raw_rankscore', u'dbnsfp.cds_strand', u'dbnsfp.chrom', u'dbnsfp.clinvar.clin_sig', u'dbnsfp.clinvar.rs', u'dbnsfp.clinvar.trait', u'dbnsfp.ensembl.geneid', u'dbnsfp.ensembl.transcriptid', u'dbnsfp.esp6500.aa_af', u'dbnsfp.esp6500.ea_af', u'dbnsfp.fathmm.pred', u'dbnsfp.fathmm.rankscore', u'dbnsfp.fathmm.score', u'dbnsfp.fold-degenerate', u'dbnsfp.genename', u'dbnsfp.gerp++.nr', u'dbnsfp.gerp++.rs', u'dbnsfp.gerp++.rs_rankscore', u'dbnsfp.hg18.end', u'dbnsfp.hg18.start', u'dbnsfp.hg19.end', u'dbnsfp.hg19.start', u'dbnsfp.hg38.pos', u'dbnsfp.interpro_domain', u'dbnsfp.lr.pred', u'dbnsfp.lr.rankscore', u'dbnsfp.lr.score', u'dbnsfp.lrt.converted_rankscore', u'dbnsfp.lrt.pred', u'dbnsfp.lrt.score', u'dbnsfp.lrt_omega', u'dbnsfp.mutationassessor.pred', ...], dtype='object')"
       ]
      }
     ],
     "prompt_number": 467
    },
    {
     "cell_type": "code",
     "collapsed": false,
     "input": [
      "fiSSEA_score = 'dbnsfp.cadd.phred'\n",
      "fiSSEA_cols = ['dbnsfp.genename','dbnsfp.cadd.phred'] \n",
      "mv_annot_fiSSEA = mv_annot[fiSSEA_cols]\n"
     ],
     "language": "python",
     "metadata": {},
     "outputs": [],
     "prompt_number": 422
    },
    {
     "cell_type": "code",
     "collapsed": false,
     "input": [
      "mv_annot_fiSSEA.dropna(subset=['dbnsfp.genename'],inplace=True)\n",
      "mv_annot_fiSSEA['dbnsfp.cadd.phred'].fillna(value=0, inplace=True)"
     ],
     "language": "python",
     "metadata": {},
     "outputs": [],
     "prompt_number": 423
    },
    {
     "cell_type": "code",
     "collapsed": false,
     "input": [
      "def split_multigene_var(df_line):\n",
      "    '''\n",
      "    Splits multigene variants into separate\n",
      "    rows\n",
      "    '''\n",
      "    gene_series = [] #list of gene variants\n",
      "    for gene in list(df_line['dbnsfp.genename']): #iterate through all genes intersecting this variant\n",
      "        df_line_copy = df_line.copy()  #avoids aliasing\n",
      "        del df_line_copy['dbnsfp.genename']  #removing genename to allow gene insertion\n",
      "        df_line_copy['dbnsfp.genename'] = gene\n",
      "        gene_series.append(df_line_copy)\n",
      "        \n",
      "    return gene_series\n",
      "        "
     ],
     "language": "python",
     "metadata": {},
     "outputs": [],
     "prompt_number": 424
    },
    {
     "cell_type": "code",
     "collapsed": false,
     "input": [
      "mv_annot_fiSSEA['dbnsfp.genename_type'] = mv_annot_fiSSEA['dbnsfp.genename'].map(type)\n",
      "mv_annot_fiSSEA_multigene = mv_annot_fiSSEA[mv_annot_fiSSEA['dbnsfp.genename_type']==list]\n",
      "mv_annot_fiSSEA = mv_annot_fiSSEA[~mv_annot_fiSSEA.index.isin(mv_annot_fiSSEA_multigene.index)]\n",
      "\n",
      "\n",
      "mv_annot_fiSSEA_multigene = mv_annot_fiSSEA_multigene.apply(split_multigene_var, axis=1)\n",
      "mv_annot_fiSSEA_multigene = [n for i in mv_annot_fiSSEA_multigene for n in i]\n",
      "mv_annot_fiSSEA = mv_annot_fiSSEA.append(pd.DataFrame(mv_annot_fiSSEA_multigene))\n",
      "del mv_annot_fiSSEA_multigene\n",
      "gc.collect()"
     ],
     "language": "python",
     "metadata": {},
     "outputs": [
      {
       "metadata": {},
       "output_type": "pyout",
       "prompt_number": 425,
       "text": [
        "3966"
       ]
      }
     ],
     "prompt_number": 425
    },
    {
     "cell_type": "code",
     "collapsed": false,
     "input": [
      "mv_annot_fiSSEA = mv_annot_fiSSEA.groupby('dbnsfp.genename')[fiSSEA_score].aggregate(np.mean)"
     ],
     "language": "python",
     "metadata": {},
     "outputs": [],
     "prompt_number": 426
    },
    {
     "cell_type": "code",
     "collapsed": false,
     "input": [
      "mv_annot_fiSSEA.hist(bins=20)"
     ],
     "language": "python",
     "metadata": {},
     "outputs": [
      {
       "metadata": {},
       "output_type": "pyout",
       "prompt_number": 427,
       "text": [
        "<matplotlib.axes.AxesSubplot at 0x11f692850>"
       ]
      },
      {
       "metadata": {},
       "output_type": "display_data",
       "png": "[encoded data removed]",
       "text": [
        "<matplotlib.figure.Figure at 0x11f246c10>"
       ]
      }
     ],
     "prompt_number": 427
    },
    {
     "cell_type": "code",
     "collapsed": false,
     "input": [
      "mv_annot_fiSSEA.to_csv('snyder_mean_cadd.rnk', sep='\\t')"
     ],
     "language": "python",
     "metadata": {},
     "outputs": [],
     "prompt_number": 428
    },
    {
     "cell_type": "heading",
     "level": 1,
     "metadata": {},
     "source": [
      "fiSSEA Function"
     ]
    },
    {
     "cell_type": "code",
     "collapsed": false,
     "input": [
      "class fiSSEA(object):\n",
      "\n",
      "    \n",
      "    def __init__(self, vcf_file_path, sample_id='', chunksize=100000, fiSSEA_score='dbnsfp.cadd.phred', gene_stat=np.mean):\n",
      "        \n",
      "        \n",
      "        #setting fiSSEA_score\n",
      "        self.fiSSEA_score = fiSSEA_score\n",
      "        \n",
      "        #setting gene statistic\n",
      "        self.gene_stat = gene_stat\n",
      "        \n",
      "        #open Vcf object\n",
      "        vcf_df_obj = Vcf(vcf_file_path, sample_id, ['#CHROM', 'POS', 'REF', 'ALT', 'ID', 'FILTER', 'FORMAT'], chunksize=chunksize)\n",
      "\n",
      "        #read in vcf chunk\n",
      "        vcf_df_obj.get_vcf_df_chunk()\n",
      "\n",
      "        #drop duplicate vcf lines, if necessary\n",
      "        vcf_df_obj.df = vcf_df_obj.df.drop_duplicates(subset=['CHROM', 'POS'])\n",
      "\n",
      "        #remove empty variant lines\n",
      "        vcf_df_obj.df = vcf_df_obj.df[vcf_df_obj.df.ALT!='.']\n",
      "\n",
      "        #replace chr if necessary, depends on format of annotations\n",
      "        vcf_df_obj.df['CHROM'] = vcf_df_obj.df['CHROM'].str.replace('chr', '')\n",
      "\n",
      "        #parse vcf lines\n",
      "        vcf_df_obj.add_variant_annotations( inplace=True, verbose=True)\n",
      "        \n",
      "        #settting vcf_df as class object\n",
      "        self.vcf_df = vcf_df_obj.df\n",
      "\n",
      "        #get myvariant.info annotations, create fiSSEA dataframe\n",
      "        self.fiSSEA_status = self.get_fi_scores()\n",
      "        \n",
      "\n",
      "    \n",
      "    def get_multigene_var_records(self, df_line):\n",
      "        '''\n",
      "        Splits multigene variants into separate\n",
      "        rows\n",
      "        '''\n",
      "        gene_series = [] #list of gene variants\n",
      "        for gene in list(df_line['dbnsfp.genename']): #iterate through all genes intersecting this variant\n",
      "            df_line_copy = df_line.copy()  #avoids aliasing\n",
      "            del df_line_copy['dbnsfp.genename']  #removing genename to allow gene insertion\n",
      "            df_line_copy['dbnsfp.genename'] = gene\n",
      "            gene_series.append(df_line_copy)\n",
      "\n",
      "        return gene_series\n",
      "    \n",
      "    \n",
      "    \n",
      "    def get_fi_scores(self):\n",
      "        '''\n",
      "        Creates fi_scores series, index on gene symbol, value fi_score.\n",
      "        '''\n",
      "        \n",
      "        #Retrieving myvariant.info annotations for all snps\n",
      "        myvariant_results = get_myvariant_snp_annot(self.vcf_df) #query and parse myvariant.info using all snps in self.vcf_df\n",
      "        self.mv_annot = pd.concat(myvariant_results)  #setting dataframe of parsed myvariant.info results\n",
      "\n",
      "        #reducing size of dataframe for fiSSEA\n",
      "        fiSSEA_cols = ['dbnsfp.genename', self.fiSSEA_score]\n",
      "        mv_annot_fiSSEA = self.mv_annot[fiSSEA_cols] \n",
      "        \n",
      "        #dropping variants without a genename & filling fi_score NaN with 0\n",
      "        mv_annot_fiSSEA.dropna(subset=['dbnsfp.genename'],inplace=True)  \n",
      "        mv_annot_fiSSEA[self.fiSSEA_score].fillna(value=0, inplace=True)  \n",
      "\n",
      "        \n",
      "        #Splitting variants intersecting multiple genes into separate rows\n",
      "        mv_annot_fiSSEA['dbnsfp.genename_type'] = mv_annot_fiSSEA['dbnsfp.genename'].map(type)\n",
      "        mv_annot_fiSSEA_multigene = mv_annot_fiSSEA[mv_annot_fiSSEA['dbnsfp.genename_type']==list]\n",
      "        mv_annot_fiSSEA = mv_annot_fiSSEA[~mv_annot_fiSSEA.index.isin(mv_annot_fiSSEA_multigene.index)]\n",
      "        mv_annot_fiSSEA_multigene = mv_annot_fiSSEA_multigene.apply(self.get_multigene_var_records, axis=1)\n",
      "        mv_annot_fiSSEA_multigene = [n for i in mv_annot_fiSSEA_multigene for n in i]\n",
      "        mv_annot_fiSSEA = mv_annot_fiSSEA.append(pd.DataFrame(mv_annot_fiSSEA_multigene))\n",
      "        del mv_annot_fiSSEA_multigene\n",
      "        \n",
      "        gc.collect()\n",
      "\n",
      "        \n",
      "        #Setting gene specific functional impact score\n",
      "        self.fi_scores = mv_annot_fiSSEA.groupby('dbnsfp.genename')[self.fiSSEA_score].aggregate(self.gene_stat)\n",
      "        \n",
      "        return 0\n",
      "   "
     ],
     "language": "python",
     "metadata": {},
     "outputs": [],
     "prompt_number": 11
    },
    {
     "cell_type": "code",
     "collapsed": false,
     "input": [],
     "language": "python",
     "metadata": {},
     "outputs": []
    },
    {
     "cell_type": "code",
     "collapsed": false,
     "input": [
      "%time testing = fiSSEA('../data/cds_snps.vcf', 'TB0001907')\n"
     ],
     "language": "python",
     "metadata": {},
     "outputs": [
      {
       "output_type": "stream",
       "stream": "stderr",
       "text": [
        "-c:69: SettingWithCopyWarning: A value is trying to be set on a copy of a slice from a DataFrame\n",
        "-c:70: SettingWithCopyWarning: A value is trying to be set on a copy of a slice from a DataFrame\n"
       ]
      },
      {
       "output_type": "stream",
       "stream": "stdout",
       "text": [
        "input variant rows: 27452\n",
        "dropping 0 variants with genotype call == \".\" \n",
        "current variant rows: 27452\n",
        "CPU times: user 6min 48s, sys: 2.38 s, total: 6min 50s"
       ]
      },
      {
       "output_type": "stream",
       "stream": "stdout",
       "text": [
        "\n",
        "Wall time: 7min 24s\n"
       ]
      }
     ],
     "prompt_number": 12
    },
    {
     "cell_type": "code",
     "collapsed": false,
     "input": [
      "testing.vcf_df[testing.vcf_df['ID'] == 'rs1445898']"
     ],
     "language": "python",
     "metadata": {},
     "outputs": [
      {
       "html": [
        "<div style=\"max-height:1000px;max-width:1500px;overflow:auto;\">\n",
        "<table border=\"1\" class=\"dataframe\">\n",
        "  <thead>\n",
        "    <tr style=\"text-align: right;\">\n",
        "      <th></th>\n",
        "      <th>CHROM</th>\n",
        "      <th>POS</th>\n",
        "      <th>REF</th>\n",
        "      <th>ALT</th>\n",
        "      <th>ID</th>\n",
        "      <th>FILTER</th>\n",
        "      <th>multiallele</th>\n",
        "      <th>phase</th>\n",
        "      <th>GT1</th>\n",
        "      <th>GT2</th>\n",
        "      <th>a1</th>\n",
        "      <th>a2</th>\n",
        "      <th>zygosity</th>\n",
        "      <th>vartype1</th>\n",
        "      <th>vartype2</th>\n",
        "      <th>GT</th>\n",
        "      <th>DP</th>\n",
        "      <th>GL</th>\n",
        "      <th>GQ</th>\n",
        "    </tr>\n",
        "  </thead>\n",
        "  <tbody>\n",
        "    <tr>\n",
        "      <th>21401</th>\n",
        "      <td> 5</td>\n",
        "      <td> 35910529</td>\n",
        "      <td> C</td>\n",
        "      <td> T</td>\n",
        "      <td> rs1445898</td>\n",
        "      <td> PASS</td>\n",
        "      <td> 0</td>\n",
        "      <td> /</td>\n",
        "      <td> 0</td>\n",
        "      <td> 1</td>\n",
        "      <td> C</td>\n",
        "      <td> T</td>\n",
        "      <td> het-ref</td>\n",
        "      <td> ref</td>\n",
        "      <td> snp</td>\n",
        "      <td> 0/1</td>\n",
        "      <td> 43</td>\n",
        "      <td> -84.54,-12.95,-89.18</td>\n",
        "      <td> 99</td>\n",
        "    </tr>\n",
        "  </tbody>\n",
        "</table>\n",
        "</div>"
       ],
       "metadata": {},
       "output_type": "pyout",
       "prompt_number": 17,
       "text": [
        "      CHROM       POS REF ALT         ID FILTER  multiallele phase  GT1  GT2  \\\n",
        "21401     5  35910529   C   T  rs1445898   PASS            0     /    0    1   \n",
        "\n",
        "      a1 a2 zygosity vartype1 vartype2   GT  DP                    GL  GQ  \n",
        "21401  C  T  het-ref      ref      snp  0/1  43  -84.54,-12.95,-89.18  99  "
       ]
      }
     ],
     "prompt_number": 17
    },
    {
     "cell_type": "code",
     "collapsed": false,
     "input": [
      "testing.fi_scores"
     ],
     "language": "python",
     "metadata": {},
     "outputs": [
      {
       "metadata": {},
       "output_type": "pyout",
       "prompt_number": 18,
       "text": [
        "dbnsfp.genename\n",
        "A1BG                1.896000\n",
        "A2M                 4.663000\n",
        "A2ML1               6.305000\n",
        "A4GNT               0.784000\n",
        "AACS                0.149000\n",
        "AADAC              16.660000\n",
        "AADACL2             1.212000\n",
        "AADACL3             2.394000\n",
        "AAGAB              13.110000\n",
        "AAK1                3.307000\n",
        "AAMP               27.100000\n",
        "AARS2               1.336000\n",
        "AARSD1             11.937667\n",
        "AASDH               3.224500\n",
        "AATF                9.913000\n",
        "...\n",
        "ZRANB3             17.4600\n",
        "ZSCAN18             2.7785\n",
        "ZSCAN2              0.0340\n",
        "ZSCAN20             3.1790\n",
        "ZSCAN29            12.5800\n",
        "ZSCAN5A             4.3870\n",
        "ZSCAN5B             6.5940\n",
        "ZSWIM1             11.1800\n",
        "ZSWIM2              4.5870\n",
        "ZSWIM3              0.2420\n",
        "ZSWIM4             17.1700\n",
        "ZSWIM6             19.2300\n",
        "ZWINT               0.0450\n",
        "ZYG11A             10.0465\n",
        "ZZEF1              17.9700\n",
        "Name: dbnsfp.cadd.phred, Length: 7102, dtype: float64"
       ]
      }
     ],
     "prompt_number": 18
    },
    {
     "cell_type": "heading",
     "level": 1,
     "metadata": {},
     "source": [
      "Scaling CADD Scores by Allele Frequency"
     ]
    },
    {
     "cell_type": "code",
     "collapsed": false,
     "input": [
      "cadd_df['tabix_query'] = list(cadd_df.index)\n",
      "cadd_df['tabix_query'] = cadd_df['tabix_query'].str.replace('g.','').str.replace('chr','').str[:-3]\n",
      "cadd_df['tabix_query'] = cadd_df['tabix_query'] + '-' + cadd_df['tabix_query'].str.split(':').str[1]\n",
      "cadd_df['tabix_query']"
     ],
     "language": "python",
     "metadata": {},
     "outputs": [
      {
       "metadata": {},
       "output_type": "pyout",
       "prompt_number": 48,
       "text": [
        "_id\n",
        "chr1:g.878314G>C       1:878314-878314\n",
        "chr1:g.915227A>G       1:915227-915227\n",
        "chr1:g.935222C>A       1:935222-935222\n",
        "chr1:g.982994T>C       1:982994-982994\n",
        "chr1:g.1223385G>C    1:1223385-1223385\n",
        "chr1:g.1277533T>C    1:1277533-1277533\n",
        "chr1:g.1635004T>C    1:1635004-1635004\n",
        "chr1:g.1647814T>C    1:1647814-1647814\n",
        "chr1:g.1650801T>C    1:1650801-1650801\n",
        "chr1:g.1650807T>C    1:1650807-1650807\n",
        "chr1:g.2488153A>G    1:2488153-2488153\n",
        "chr1:g.2573199A>G    1:2573199-2573199\n",
        "chr1:g.3638674C>T    1:3638674-3638674\n",
        "chr1:g.3753136A>T    1:3753136-3753136\n",
        "chr1:g.6278414A>G    1:6278414-6278414\n",
        "...\n",
        "chrX:g.135956342C>G    X:135956342-135956342\n",
        "chrX:g.135956391A>G    X:135956391-135956391\n",
        "chrX:g.135960119C>T    X:135960119-135960119\n",
        "chrX:g.147010263A>C    X:147010263-147010263\n",
        "chrX:g.148798223T>C    X:148798223-148798223\n",
        "chrX:g.150869267A>G    X:150869267-150869267\n",
        "chrX:g.153008483G>A    X:153008483-153008483\n",
        "chrX:g.153008984G>A    X:153008984-153008984\n",
        "chrX:g.153042419G>A    X:153042419-153042419\n",
        "chrX:g.153176284C>T    X:153176284-153176284\n",
        "chrX:g.153284483G>A    X:153284483-153284483\n",
        "chrX:g.153492789G>T    X:153492789-153492789\n",
        "chrX:g.153629155A>G    X:153629155-153629155\n",
        "chrX:g.153633359G>C    X:153633359-153633359\n",
        "chrX:g.153662610A>C    X:153662610-153662610\n",
        "Name: tabix_query, Length: 5268, dtype: object"
       ]
      }
     ],
     "prompt_number": 48
    },
    {
     "cell_type": "code",
     "collapsed": false,
     "input": [
      "Tg_vcf = '/Users/ers_vader/datasets_raw/1000genomes/phase3/ALL.autosomes.phase3_shapeit2_mvncall_integrated_v4.20130502.sites.vcf.gz'\n",
      "\n",
      "af_1000g = []\n",
      "for tabix_str in cadd_df['tabix_query'].values:\n",
      "    data = !tabix $Tg_vcf $tabix_str\n",
      "    af_1000g.append(data)\n",
      "    "
     ],
     "language": "python",
     "metadata": {},
     "outputs": [],
     "prompt_number": 51
    },
    {
     "cell_type": "code",
     "collapsed": false,
     "input": [
      "af_1000g_data = [i[0] for i in af_1000g if len(i) > 0]\n",
      "af_1000g_data = [i.split('\\t') for i in af_1000g_data]\n",
      "af_1000g_df = pd.DataFrame.from_records(af_1000g_data)\n"
     ],
     "language": "python",
     "metadata": {},
     "outputs": [],
     "prompt_number": 82
    },
    {
     "cell_type": "code",
     "collapsed": false,
     "input": [
      "af_1000g_df['af'] = af_1000g_df[7].str.split(\"AF=\").str[1].str.split(';').str[0]\n",
      "af_1000g_df['hgvs_id'] = 'chr' + af_1000g_df[0].astype(str) + \":g.\" + af_1000g_df[1].astype(str) + af_1000g_df[3] + '>' + af_1000g_df[4] \n"
     ],
     "language": "python",
     "metadata": {},
     "outputs": [],
     "prompt_number": 276
    },
    {
     "cell_type": "code",
     "collapsed": false,
     "input": [
      "af_1000g_df.set_index('hgvs_id', inplace=True)\n",
      "af_1000g_df.index.name = '_id'"
     ],
     "language": "python",
     "metadata": {},
     "outputs": [],
     "prompt_number": 277
    },
    {
     "cell_type": "code",
     "collapsed": false,
     "input": [
      "af_1000g_df.head()"
     ],
     "language": "python",
     "metadata": {},
     "outputs": [
      {
       "html": [
        "<div style=\"max-height:1000px;max-width:1500px;overflow:auto;\">\n",
        "<table border=\"1\" class=\"dataframe\">\n",
        "  <thead>\n",
        "    <tr style=\"text-align: right;\">\n",
        "      <th></th>\n",
        "      <th>0</th>\n",
        "      <th>1</th>\n",
        "      <th>2</th>\n",
        "      <th>3</th>\n",
        "      <th>4</th>\n",
        "      <th>5</th>\n",
        "      <th>6</th>\n",
        "      <th>7</th>\n",
        "      <th>af</th>\n",
        "    </tr>\n",
        "    <tr>\n",
        "      <th>_id</th>\n",
        "      <th></th>\n",
        "      <th></th>\n",
        "      <th></th>\n",
        "      <th></th>\n",
        "      <th></th>\n",
        "      <th></th>\n",
        "      <th></th>\n",
        "      <th></th>\n",
        "      <th></th>\n",
        "    </tr>\n",
        "  </thead>\n",
        "  <tbody>\n",
        "    <tr>\n",
        "      <th>chr1:g.878314G&gt;C</th>\n",
        "      <td> 1</td>\n",
        "      <td>  878314</td>\n",
        "      <td> rs142558220</td>\n",
        "      <td> G</td>\n",
        "      <td> C</td>\n",
        "      <td> 100</td>\n",
        "      <td> PASS</td>\n",
        "      <td>  AC=216;AF=0.043131;AN=5008;NS=2504</td>\n",
        "      <td> 0.043131</td>\n",
        "    </tr>\n",
        "    <tr>\n",
        "      <th>chr1:g.915227A&gt;G</th>\n",
        "      <td> 1</td>\n",
        "      <td>  915227</td>\n",
        "      <td>  rs13303355</td>\n",
        "      <td> A</td>\n",
        "      <td> G</td>\n",
        "      <td> 100</td>\n",
        "      <td> PASS</td>\n",
        "      <td> AC=4598;AF=0.918131;AN=5008;NS=2504</td>\n",
        "      <td> 0.918131</td>\n",
        "    </tr>\n",
        "    <tr>\n",
        "      <th>chr1:g.935222C&gt;A</th>\n",
        "      <td> 1</td>\n",
        "      <td>  935222</td>\n",
        "      <td>   rs2298214</td>\n",
        "      <td> C</td>\n",
        "      <td> A</td>\n",
        "      <td> 100</td>\n",
        "      <td> PASS</td>\n",
        "      <td>  AC=2473;AF=0.49381;AN=5008;NS=2504</td>\n",
        "      <td>  0.49381</td>\n",
        "    </tr>\n",
        "    <tr>\n",
        "      <th>chr1:g.982994T&gt;C</th>\n",
        "      <td> 1</td>\n",
        "      <td>  982994</td>\n",
        "      <td>     rs10267</td>\n",
        "      <td> T</td>\n",
        "      <td> C</td>\n",
        "      <td> 100</td>\n",
        "      <td> PASS</td>\n",
        "      <td> AC=4186;AF=0.835863;AN=5008;NS=2504</td>\n",
        "      <td> 0.835863</td>\n",
        "    </tr>\n",
        "    <tr>\n",
        "      <th>chr1:g.1223385G&gt;C</th>\n",
        "      <td> 1</td>\n",
        "      <td> 1223385</td>\n",
        "      <td>   rs2228579</td>\n",
        "      <td> G</td>\n",
        "      <td> C</td>\n",
        "      <td> 100</td>\n",
        "      <td> PASS</td>\n",
        "      <td> AC=1641;AF=0.327676;AN=5008;NS=2504</td>\n",
        "      <td> 0.327676</td>\n",
        "    </tr>\n",
        "  </tbody>\n",
        "</table>\n",
        "</div>"
       ],
       "metadata": {},
       "output_type": "pyout",
       "prompt_number": 278,
       "text": [
        "                   0        1            2  3  4    5     6  \\\n",
        "_id                                                           \n",
        "chr1:g.878314G>C   1   878314  rs142558220  G  C  100  PASS   \n",
        "chr1:g.915227A>G   1   915227   rs13303355  A  G  100  PASS   \n",
        "chr1:g.935222C>A   1   935222    rs2298214  C  A  100  PASS   \n",
        "chr1:g.982994T>C   1   982994      rs10267  T  C  100  PASS   \n",
        "chr1:g.1223385G>C  1  1223385    rs2228579  G  C  100  PASS   \n",
        "\n",
        "                                                     7        af  \n",
        "_id                                                               \n",
        "chr1:g.878314G>C    AC=216;AF=0.043131;AN=5008;NS=2504  0.043131  \n",
        "chr1:g.915227A>G   AC=4598;AF=0.918131;AN=5008;NS=2504  0.918131  \n",
        "chr1:g.935222C>A    AC=2473;AF=0.49381;AN=5008;NS=2504   0.49381  \n",
        "chr1:g.982994T>C   AC=4186;AF=0.835863;AN=5008;NS=2504  0.835863  \n",
        "chr1:g.1223385G>C  AC=1641;AF=0.327676;AN=5008;NS=2504  0.327676  "
       ]
      }
     ],
     "prompt_number": 278
    },
    {
     "cell_type": "code",
     "collapsed": false,
     "input": [
      "cadd_df_af = cadd_df.join(af_1000g_df['af'], how='left')\n"
     ],
     "language": "python",
     "metadata": {},
     "outputs": [],
     "prompt_number": 279
    },
    {
     "cell_type": "code",
     "collapsed": false,
     "input": [
      "cadd_df_af.af.fillna(value='0.0002', inplace=True)  #1/5008 not seen in 1000g chromosomes\n",
      "cadd_df_af.head()"
     ],
     "language": "python",
     "metadata": {},
     "outputs": [
      {
       "html": [
        "<div style=\"max-height:1000px;max-width:1500px;overflow:auto;\">\n",
        "<table border=\"1\" class=\"dataframe\">\n",
        "  <thead>\n",
        "    <tr style=\"text-align: right;\">\n",
        "      <th></th>\n",
        "      <th>_id</th>\n",
        "      <th>clinvar.allele_id</th>\n",
        "      <th>clinvar.clinical_significance</th>\n",
        "      <th>clinvar.cytogenic</th>\n",
        "      <th>clinvar.gene.id</th>\n",
        "      <th>clinvar.gene.symbol</th>\n",
        "      <th>clinvar.genome</th>\n",
        "      <th>clinvar.genome.assembly</th>\n",
        "      <th>clinvar.genome.chr</th>\n",
        "      <th>clinvar.genome.end</th>\n",
        "      <th>...</th>\n",
        "      <th>mutdb.chrom</th>\n",
        "      <th>mutdb.chromEnd</th>\n",
        "      <th>mutdb.chromStart</th>\n",
        "      <th>mutdb.cosmic_id</th>\n",
        "      <th>mutdb.dbsnp_id</th>\n",
        "      <th>mutdb.mutpred_score</th>\n",
        "      <th>mutdb.strand</th>\n",
        "      <th>mutdb.uniprot_id</th>\n",
        "      <th>snpedia.text</th>\n",
        "      <th>af</th>\n",
        "    </tr>\n",
        "    <tr>\n",
        "      <th>_id</th>\n",
        "      <th></th>\n",
        "      <th></th>\n",
        "      <th></th>\n",
        "      <th></th>\n",
        "      <th></th>\n",
        "      <th></th>\n",
        "      <th></th>\n",
        "      <th></th>\n",
        "      <th></th>\n",
        "      <th></th>\n",
        "      <th></th>\n",
        "      <th></th>\n",
        "      <th></th>\n",
        "      <th></th>\n",
        "      <th></th>\n",
        "      <th></th>\n",
        "      <th></th>\n",
        "      <th></th>\n",
        "      <th></th>\n",
        "      <th></th>\n",
        "      <th></th>\n",
        "    </tr>\n",
        "  </thead>\n",
        "  <tbody>\n",
        "    <tr>\n",
        "      <th>chr10:g.101090428T&gt;G</th>\n",
        "      <td> chr10:g.101090428T&gt;G</td>\n",
        "      <td>NaN</td>\n",
        "      <td> NaN</td>\n",
        "      <td> NaN</td>\n",
        "      <td>NaN</td>\n",
        "      <td> NaN</td>\n",
        "      <td> NaN</td>\n",
        "      <td> NaN</td>\n",
        "      <td> NaN</td>\n",
        "      <td>NaN</td>\n",
        "      <td>...</td>\n",
        "      <td> NaN</td>\n",
        "      <td>       NaN</td>\n",
        "      <td>       NaN</td>\n",
        "      <td>  NaN</td>\n",
        "      <td>      NaN</td>\n",
        "      <td>   NaN</td>\n",
        "      <td> NaN</td>\n",
        "      <td>        NaN</td>\n",
        "      <td> NaN</td>\n",
        "      <td> 0.869808</td>\n",
        "    </tr>\n",
        "    <tr>\n",
        "      <th>chr10:g.101293035C&gt;A</th>\n",
        "      <td> chr10:g.101293035C&gt;A</td>\n",
        "      <td>NaN</td>\n",
        "      <td> NaN</td>\n",
        "      <td> NaN</td>\n",
        "      <td>NaN</td>\n",
        "      <td> NaN</td>\n",
        "      <td> NaN</td>\n",
        "      <td> NaN</td>\n",
        "      <td> NaN</td>\n",
        "      <td>NaN</td>\n",
        "      <td>...</td>\n",
        "      <td> NaN</td>\n",
        "      <td>       NaN</td>\n",
        "      <td>       NaN</td>\n",
        "      <td>  NaN</td>\n",
        "      <td>      NaN</td>\n",
        "      <td>   NaN</td>\n",
        "      <td> NaN</td>\n",
        "      <td>        NaN</td>\n",
        "      <td> NaN</td>\n",
        "      <td> 0.551318</td>\n",
        "    </tr>\n",
        "    <tr>\n",
        "      <th>chr10:g.101473218A&gt;G</th>\n",
        "      <td> chr10:g.101473218A&gt;G</td>\n",
        "      <td>NaN</td>\n",
        "      <td> NaN</td>\n",
        "      <td> NaN</td>\n",
        "      <td>NaN</td>\n",
        "      <td> NaN</td>\n",
        "      <td> NaN</td>\n",
        "      <td> NaN</td>\n",
        "      <td> NaN</td>\n",
        "      <td>NaN</td>\n",
        "      <td>...</td>\n",
        "      <td> NaN</td>\n",
        "      <td>       NaN</td>\n",
        "      <td>       NaN</td>\n",
        "      <td>  NaN</td>\n",
        "      <td>      NaN</td>\n",
        "      <td>   NaN</td>\n",
        "      <td> NaN</td>\n",
        "      <td>        NaN</td>\n",
        "      <td> NaN</td>\n",
        "      <td> 0.827077</td>\n",
        "    </tr>\n",
        "    <tr>\n",
        "      <th>chr10:g.102824349G&gt;C</th>\n",
        "      <td> chr10:g.102824349G&gt;C</td>\n",
        "      <td>NaN</td>\n",
        "      <td> NaN</td>\n",
        "      <td> NaN</td>\n",
        "      <td>NaN</td>\n",
        "      <td> NaN</td>\n",
        "      <td> NaN</td>\n",
        "      <td> NaN</td>\n",
        "      <td> NaN</td>\n",
        "      <td>NaN</td>\n",
        "      <td>...</td>\n",
        "      <td>  10</td>\n",
        "      <td> 102824349</td>\n",
        "      <td> 102824349</td>\n",
        "      <td> None</td>\n",
        "      <td> rs807037</td>\n",
        "      <td> 0.321</td>\n",
        "      <td>   p</td>\n",
        "      <td> VAR_033629</td>\n",
        "      <td> NaN</td>\n",
        "      <td> 0.595647</td>\n",
        "    </tr>\n",
        "    <tr>\n",
        "      <th>chr10:g.103588001A&gt;C</th>\n",
        "      <td> chr10:g.103588001A&gt;C</td>\n",
        "      <td>NaN</td>\n",
        "      <td> NaN</td>\n",
        "      <td> NaN</td>\n",
        "      <td>NaN</td>\n",
        "      <td> NaN</td>\n",
        "      <td> NaN</td>\n",
        "      <td> NaN</td>\n",
        "      <td> NaN</td>\n",
        "      <td>NaN</td>\n",
        "      <td>...</td>\n",
        "      <td> NaN</td>\n",
        "      <td>       NaN</td>\n",
        "      <td>       NaN</td>\n",
        "      <td>  NaN</td>\n",
        "      <td>      NaN</td>\n",
        "      <td>   NaN</td>\n",
        "      <td> NaN</td>\n",
        "      <td>        NaN</td>\n",
        "      <td> NaN</td>\n",
        "      <td>   0.0002</td>\n",
        "    </tr>\n",
        "  </tbody>\n",
        "</table>\n",
        "<p>5 rows \u00d7 193 columns</p>\n",
        "</div>"
       ],
       "metadata": {},
       "output_type": "pyout",
       "prompt_number": 280,
       "text": [
        "                                       _id  clinvar.allele_id  \\\n",
        "_id                                                             \n",
        "chr10:g.101090428T>G  chr10:g.101090428T>G                NaN   \n",
        "chr10:g.101293035C>A  chr10:g.101293035C>A                NaN   \n",
        "chr10:g.101473218A>G  chr10:g.101473218A>G                NaN   \n",
        "chr10:g.102824349G>C  chr10:g.102824349G>C                NaN   \n",
        "chr10:g.103588001A>C  chr10:g.103588001A>C                NaN   \n",
        "\n",
        "                     clinvar.clinical_significance clinvar.cytogenic  \\\n",
        "_id                                                                    \n",
        "chr10:g.101090428T>G                           NaN               NaN   \n",
        "chr10:g.101293035C>A                           NaN               NaN   \n",
        "chr10:g.101473218A>G                           NaN               NaN   \n",
        "chr10:g.102824349G>C                           NaN               NaN   \n",
        "chr10:g.103588001A>C                           NaN               NaN   \n",
        "\n",
        "                      clinvar.gene.id clinvar.gene.symbol clinvar.genome  \\\n",
        "_id                                                                        \n",
        "chr10:g.101090428T>G              NaN                 NaN            NaN   \n",
        "chr10:g.101293035C>A              NaN                 NaN            NaN   \n",
        "chr10:g.101473218A>G              NaN                 NaN            NaN   \n",
        "chr10:g.102824349G>C              NaN                 NaN            NaN   \n",
        "chr10:g.103588001A>C              NaN                 NaN            NaN   \n",
        "\n",
        "                     clinvar.genome.assembly clinvar.genome.chr  \\\n",
        "_id                                                               \n",
        "chr10:g.101090428T>G                     NaN                NaN   \n",
        "chr10:g.101293035C>A                     NaN                NaN   \n",
        "chr10:g.101473218A>G                     NaN                NaN   \n",
        "chr10:g.102824349G>C                     NaN                NaN   \n",
        "chr10:g.103588001A>C                     NaN                NaN   \n",
        "\n",
        "                      clinvar.genome.end         ...          mutdb.chrom  \\\n",
        "_id                                              ...                        \n",
        "chr10:g.101090428T>G                 NaN         ...                  NaN   \n",
        "chr10:g.101293035C>A                 NaN         ...                  NaN   \n",
        "chr10:g.101473218A>G                 NaN         ...                  NaN   \n",
        "chr10:g.102824349G>C                 NaN         ...                   10   \n",
        "chr10:g.103588001A>C                 NaN         ...                  NaN   \n",
        "\n",
        "                     mutdb.chromEnd mutdb.chromStart mutdb.cosmic_id  \\\n",
        "_id                                                                    \n",
        "chr10:g.101090428T>G            NaN              NaN             NaN   \n",
        "chr10:g.101293035C>A            NaN              NaN             NaN   \n",
        "chr10:g.101473218A>G            NaN              NaN             NaN   \n",
        "chr10:g.102824349G>C      102824349        102824349            None   \n",
        "chr10:g.103588001A>C            NaN              NaN             NaN   \n",
        "\n",
        "                     mutdb.dbsnp_id mutdb.mutpred_score  mutdb.strand  \\\n",
        "_id                                                                     \n",
        "chr10:g.101090428T>G            NaN                 NaN           NaN   \n",
        "chr10:g.101293035C>A            NaN                 NaN           NaN   \n",
        "chr10:g.101473218A>G            NaN                 NaN           NaN   \n",
        "chr10:g.102824349G>C       rs807037               0.321             p   \n",
        "chr10:g.103588001A>C            NaN                 NaN           NaN   \n",
        "\n",
        "                     mutdb.uniprot_id snpedia.text        af  \n",
        "_id                                                           \n",
        "chr10:g.101090428T>G              NaN          NaN  0.869808  \n",
        "chr10:g.101293035C>A              NaN          NaN  0.551318  \n",
        "chr10:g.101473218A>G              NaN          NaN  0.827077  \n",
        "chr10:g.102824349G>C       VAR_033629          NaN  0.595647  \n",
        "chr10:g.103588001A>C              NaN          NaN    0.0002  \n",
        "\n",
        "[5 rows x 193 columns]"
       ]
      }
     ],
     "prompt_number": 280
    },
    {
     "cell_type": "code",
     "collapsed": false,
     "input": [
      "cadd_df_af['af'] = cadd_df_af['af'].astype(float)"
     ],
     "language": "python",
     "metadata": {},
     "outputs": [],
     "prompt_number": 281
    },
    {
     "cell_type": "code",
     "collapsed": false,
     "input": [
      "cadd_df_af['af_scaled_cadd'] = cadd_df_af['dbnsfp.cadd.raw'].divide(cadd_df_af['af'])\n",
      "cadd_df_af['af_scaled_cadd'].head()"
     ],
     "language": "python",
     "metadata": {},
     "outputs": [
      {
       "metadata": {},
       "output_type": "pyout",
       "prompt_number": 282,
       "text": [
        "_id\n",
        "chr10:g.101090428T>G        1.590622\n",
        "chr10:g.101293035C>A        5.225922\n",
        "chr10:g.101473218A>G        1.506272\n",
        "chr10:g.102824349G>C        6.403455\n",
        "chr10:g.103588001A>C    15833.140000\n",
        "Name: af_scaled_cadd, dtype: float64"
       ]
      }
     ],
     "prompt_number": 282
    },
    {
     "cell_type": "code",
     "collapsed": false,
     "input": [
      "cadd_df_af[['af_scaled_cadd','dbnsfp.cadd.raw']].hist(bins=20, figsize=[15,5])"
     ],
     "language": "python",
     "metadata": {},
     "outputs": [
      {
       "metadata": {},
       "output_type": "pyout",
       "prompt_number": 283,
       "text": [
        "array([[<matplotlib.axes.AxesSubplot object at 0x127f23d10>,\n",
        "        <matplotlib.axes.AxesSubplot object at 0x126e78f10>]], dtype=object)"
       ]
      },
      {
       "metadata": {},
       "output_type": "display_data",
       "png": "[encoded data removed]",
       "text": [
        "<matplotlib.figure.Figure at 0x127f23790>"
       ]
      }
     ],
     "prompt_number": 283
    },
    {
     "cell_type": "code",
     "collapsed": false,
     "input": [
      "cadd_dict_scaled = cadd_df_af['af_scaled_cadd'].to_dict()\n",
      "cadd_dict_replace_scaled = {'hgvs_a2':cadd_dict_scaled, 'hgvs_a1':cadd_dict_scaled}"
     ],
     "language": "python",
     "metadata": {},
     "outputs": [],
     "prompt_number": 284
    },
    {
     "cell_type": "heading",
     "level": 1,
     "metadata": {},
     "source": [
      "Translating GENOTYPES FOR CADD SCORES"
     ]
    },
    {
     "cell_type": "code",
     "collapsed": false,
     "input": [
      "synon_genes = set(affy_genes.symbol.values) - set(max_cadd.index)"
     ],
     "language": "python",
     "metadata": {},
     "outputs": [],
     "prompt_number": 207
    },
    {
     "cell_type": "code",
     "collapsed": false,
     "input": [
      "synon_genes_df = pd.DataFrame(list(synon_genes))\n",
      "synon_genes_df['cadd_score_sum'] = 0\n",
      "synon_genes_df.columns = ['genename', 'cadd_score_sum']\n",
      "synon_genes_df.set_index('genename', inplace=True)"
     ],
     "language": "python",
     "metadata": {},
     "outputs": [],
     "prompt_number": 218
    },
    {
     "cell_type": "code",
     "collapsed": false,
     "input": [
      "# mg = mygene.MyGeneInfo()\n",
      "# cadd_genes = mg.querymany(list(max_cadd.index), as_dataframe=True)"
     ],
     "language": "python",
     "metadata": {},
     "outputs": [
      {
       "output_type": "stream",
       "stream": "stdout",
       "text": [
        "querying 1-1000...done."
       ]
      },
      {
       "output_type": "stream",
       "stream": "stdout",
       "text": [
        "\n",
        "querying 1001-2000..."
       ]
      },
      {
       "output_type": "stream",
       "stream": "stdout",
       "text": [
        "done."
       ]
      },
      {
       "output_type": "stream",
       "stream": "stdout",
       "text": [
        "\n",
        "querying 2001-3000..."
       ]
      },
      {
       "output_type": "stream",
       "stream": "stdout",
       "text": [
        "done."
       ]
      },
      {
       "output_type": "stream",
       "stream": "stdout",
       "text": [
        "\n",
        "querying 3001-3467..."
       ]
      },
      {
       "output_type": "stream",
       "stream": "stdout",
       "text": [
        "done."
       ]
      },
      {
       "output_type": "stream",
       "stream": "stdout",
       "text": [
        "\n",
        "Finished.\n",
        "183 input query terms found dup hits:\n",
        "\t[(u'ENSG00000198156', 3), (u'ENSG00000079263', 2), (u'ENSG00000215440', 2), (u'ENSG00000136819', 2),\n",
        "36 input query terms found no hit:\n",
        "\t[u'ENSG00000017373', u'ENSG00000034063', u'ENSG00000090920', u'ENSG00000107623', u'ENSG00000122497',\n",
        "Pass \"returnall=True\" to return complete lists of duplicate or missing query terms.\n"
       ]
      }
     ],
     "prompt_number": 34
    },
    {
     "cell_type": "heading",
     "level": 1,
     "metadata": {},
     "source": [
      "Gene List - CDS START/END"
     ]
    },
    {
     "cell_type": "code",
     "collapsed": false,
     "input": [
      "mg = mygene.MyGeneInfo()"
     ],
     "language": "python",
     "metadata": {},
     "outputs": [],
     "prompt_number": 156
    },
    {
     "cell_type": "code",
     "collapsed": false,
     "input": [
      "cadd_genes"
     ],
     "language": "python",
     "metadata": {},
     "outputs": [
      {
       "html": [
        "<div style=\"max-height:1000px;max-width:1500px;overflow:auto;\">\n",
        "<table border=\"1\" class=\"dataframe\">\n",
        "  <thead>\n",
        "    <tr style=\"text-align: right;\">\n",
        "      <th></th>\n",
        "      <th>_id</th>\n",
        "      <th>entrezgene</th>\n",
        "      <th>name</th>\n",
        "      <th>notfound</th>\n",
        "      <th>symbol</th>\n",
        "      <th>taxid</th>\n",
        "    </tr>\n",
        "    <tr>\n",
        "      <th>query</th>\n",
        "      <th></th>\n",
        "      <th></th>\n",
        "      <th></th>\n",
        "      <th></th>\n",
        "      <th></th>\n",
        "      <th></th>\n",
        "    </tr>\n",
        "  </thead>\n",
        "  <tbody>\n",
        "    <tr>\n",
        "      <th>ENSG00000000971</th>\n",
        "      <td>      3075</td>\n",
        "      <td>      3075</td>\n",
        "      <td>                               complement factor H</td>\n",
        "      <td>  NaN</td>\n",
        "      <td>          CFH</td>\n",
        "      <td> 9606</td>\n",
        "    </tr>\n",
        "    <tr>\n",
        "      <th>ENSG00000001461</th>\n",
        "      <td>     57185</td>\n",
        "      <td>     57185</td>\n",
        "      <td>                     NIPA-like domain containing 3</td>\n",
        "      <td>  NaN</td>\n",
        "      <td>       NIPAL3</td>\n",
        "      <td> 9606</td>\n",
        "    </tr>\n",
        "    <tr>\n",
        "      <th>ENSG00000001617</th>\n",
        "      <td>      6405</td>\n",
        "      <td>      6405</td>\n",
        "      <td> sema domain, immunoglobulin domain (Ig), short...</td>\n",
        "      <td>  NaN</td>\n",
        "      <td>       SEMA3F</td>\n",
        "      <td> 9606</td>\n",
        "    </tr>\n",
        "    <tr>\n",
        "      <th>ENSG00000001629</th>\n",
        "      <td>     54467</td>\n",
        "      <td>     54467</td>\n",
        "      <td>        ankyrin repeat and IBR domain containing 1</td>\n",
        "      <td>  NaN</td>\n",
        "      <td>       ANKIB1</td>\n",
        "      <td> 9606</td>\n",
        "    </tr>\n",
        "    <tr>\n",
        "      <th>ENSG00000002726</th>\n",
        "      <td>        26</td>\n",
        "      <td>        26</td>\n",
        "      <td>                amine oxidase, copper containing 1</td>\n",
        "      <td>  NaN</td>\n",
        "      <td>         AOC1</td>\n",
        "      <td> 9606</td>\n",
        "    </tr>\n",
        "    <tr>\n",
        "      <th>ENSG00000002746</th>\n",
        "      <td> 102724911</td>\n",
        "      <td> 102724911</td>\n",
        "      <td>                      uncharacterized LOC102724911</td>\n",
        "      <td>  NaN</td>\n",
        "      <td> LOC102724911</td>\n",
        "      <td> 9606</td>\n",
        "    </tr>\n",
        "    <tr>\n",
        "      <th>ENSG00000002746</th>\n",
        "      <td>     23072</td>\n",
        "      <td>     23072</td>\n",
        "      <td> HECT, C2 and WW domain containing E3 ubiquitin...</td>\n",
        "      <td>  NaN</td>\n",
        "      <td>        HECW1</td>\n",
        "      <td> 9606</td>\n",
        "    </tr>\n",
        "    <tr>\n",
        "      <th>ENSG00000003147</th>\n",
        "      <td>      3382</td>\n",
        "      <td>      3382</td>\n",
        "      <td>                   islet cell autoantigen 1, 69kDa</td>\n",
        "      <td>  NaN</td>\n",
        "      <td>         ICA1</td>\n",
        "      <td> 9606</td>\n",
        "    </tr>\n",
        "    <tr>\n",
        "      <th>ENSG00000003987</th>\n",
        "      <td>      9108</td>\n",
        "      <td>      9108</td>\n",
        "      <td>                    myotubularin related protein 7</td>\n",
        "      <td>  NaN</td>\n",
        "      <td>        MTMR7</td>\n",
        "      <td> 9606</td>\n",
        "    </tr>\n",
        "    <tr>\n",
        "      <th>ENSG00000004139</th>\n",
        "      <td>     23098</td>\n",
        "      <td>     23098</td>\n",
        "      <td>          sterile alpha and TIR motif containing 1</td>\n",
        "      <td>  NaN</td>\n",
        "      <td>        SARM1</td>\n",
        "      <td> 9606</td>\n",
        "    </tr>\n",
        "    <tr>\n",
        "      <th>ENSG00000004399</th>\n",
        "      <td>     23129</td>\n",
        "      <td>     23129</td>\n",
        "      <td>                                         plexin D1</td>\n",
        "      <td>  NaN</td>\n",
        "      <td>       PLXND1</td>\n",
        "      <td> 9606</td>\n",
        "    </tr>\n",
        "    <tr>\n",
        "      <th>ENSG00000004455</th>\n",
        "      <td>       204</td>\n",
        "      <td>       204</td>\n",
        "      <td>                                adenylate kinase 2</td>\n",
        "      <td>  NaN</td>\n",
        "      <td>          AK2</td>\n",
        "      <td> 9606</td>\n",
        "    </tr>\n",
        "    <tr>\n",
        "      <th>ENSG00000004766</th>\n",
        "      <td>     55610</td>\n",
        "      <td>     55610</td>\n",
        "      <td>                 coiled-coil domain containing 132</td>\n",
        "      <td>  NaN</td>\n",
        "      <td>      CCDC132</td>\n",
        "      <td> 9606</td>\n",
        "    </tr>\n",
        "    <tr>\n",
        "      <th>ENSG00000004846</th>\n",
        "      <td>    340273</td>\n",
        "      <td>    340273</td>\n",
        "      <td> ATP-binding cassette, sub-family B (MDR/TAP), ...</td>\n",
        "      <td>  NaN</td>\n",
        "      <td>        ABCB5</td>\n",
        "      <td> 9606</td>\n",
        "    </tr>\n",
        "    <tr>\n",
        "      <th>ENSG00000004897</th>\n",
        "      <td>       996</td>\n",
        "      <td>       996</td>\n",
        "      <td>                            cell division cycle 27</td>\n",
        "      <td>  NaN</td>\n",
        "      <td>        CDC27</td>\n",
        "      <td> 9606</td>\n",
        "    </tr>\n",
        "    <tr>\n",
        "      <th>ENSG00000005022</th>\n",
        "      <td>       292</td>\n",
        "      <td>       292</td>\n",
        "      <td> solute carrier family 25 (mitochondrial carrie...</td>\n",
        "      <td>  NaN</td>\n",
        "      <td>      SLC25A5</td>\n",
        "      <td> 9606</td>\n",
        "    </tr>\n",
        "    <tr>\n",
        "      <th>ENSG00000005156</th>\n",
        "      <td>      3980</td>\n",
        "      <td>      3980</td>\n",
        "      <td>                    ligase III, DNA, ATP-dependent</td>\n",
        "      <td>  NaN</td>\n",
        "      <td>         LIG3</td>\n",
        "      <td> 9606</td>\n",
        "    </tr>\n",
        "    <tr>\n",
        "      <th>ENSG00000005187</th>\n",
        "      <td>      6296</td>\n",
        "      <td>      6296</td>\n",
        "      <td>  acyl-CoA synthetase medium-chain family member 3</td>\n",
        "      <td>  NaN</td>\n",
        "      <td>        ACSM3</td>\n",
        "      <td> 9606</td>\n",
        "    </tr>\n",
        "    <tr>\n",
        "      <th>ENSG00000005238</th>\n",
        "      <td>     80256</td>\n",
        "      <td>     80256</td>\n",
        "      <td>     family with sequence similarity 214, member B</td>\n",
        "      <td>  NaN</td>\n",
        "      <td>      FAM214B</td>\n",
        "      <td> 9606</td>\n",
        "    </tr>\n",
        "    <tr>\n",
        "      <th>ENSG00000005379</th>\n",
        "      <td>      9256</td>\n",
        "      <td>      9256</td>\n",
        "      <td> benzodiazepine receptor (peripheral) associate...</td>\n",
        "      <td>  NaN</td>\n",
        "      <td>       BZRAP1</td>\n",
        "      <td> 9606</td>\n",
        "    </tr>\n",
        "    <tr>\n",
        "      <th>ENSG00000005421</th>\n",
        "      <td>      5444</td>\n",
        "      <td>      5444</td>\n",
        "      <td>                                     paraoxonase 1</td>\n",
        "      <td>  NaN</td>\n",
        "      <td>         PON1</td>\n",
        "      <td> 9606</td>\n",
        "    </tr>\n",
        "    <tr>\n",
        "      <th>ENSG00000005436</th>\n",
        "      <td>      6936</td>\n",
        "      <td>      6936</td>\n",
        "      <td>             GC-rich sequence DNA-binding factor 2</td>\n",
        "      <td>  NaN</td>\n",
        "      <td>        GCFC2</td>\n",
        "      <td> 9606</td>\n",
        "    </tr>\n",
        "    <tr>\n",
        "      <th>ENSG00000005483</th>\n",
        "      <td>     55904</td>\n",
        "      <td>     55904</td>\n",
        "      <td>          lysine (K)-specific methyltransferase 2E</td>\n",
        "      <td>  NaN</td>\n",
        "      <td>        KMT2E</td>\n",
        "      <td> 9606</td>\n",
        "    </tr>\n",
        "    <tr>\n",
        "      <th>ENSG00000005810</th>\n",
        "      <td>     23077</td>\n",
        "      <td>     23077</td>\n",
        "      <td> MYC binding protein 2, E3 ubiquitin protein li...</td>\n",
        "      <td>  NaN</td>\n",
        "      <td>       MYCBP2</td>\n",
        "      <td> 9606</td>\n",
        "    </tr>\n",
        "    <tr>\n",
        "      <th>ENSG00000005844</th>\n",
        "      <td>      3683</td>\n",
        "      <td>      3683</td>\n",
        "      <td> integrin, alpha L (antigen CD11A (p180), lymph...</td>\n",
        "      <td>  NaN</td>\n",
        "      <td>        ITGAL</td>\n",
        "      <td> 9606</td>\n",
        "    </tr>\n",
        "    <tr>\n",
        "      <th>ENSG00000006025</th>\n",
        "      <td>    114881</td>\n",
        "      <td>    114881</td>\n",
        "      <td>                  oxysterol binding protein-like 7</td>\n",
        "      <td>  NaN</td>\n",
        "      <td>       OSBPL7</td>\n",
        "      <td> 9606</td>\n",
        "    </tr>\n",
        "    <tr>\n",
        "      <th>ENSG00000006118</th>\n",
        "      <td>     54972</td>\n",
        "      <td>     54972</td>\n",
        "      <td>                        transmembrane protein 132A</td>\n",
        "      <td>  NaN</td>\n",
        "      <td>     TMEM132A</td>\n",
        "      <td> 9606</td>\n",
        "    </tr>\n",
        "    <tr>\n",
        "      <th>ENSG00000006194</th>\n",
        "      <td>    283876</td>\n",
        "      <td>    283876</td>\n",
        "      <td>        long intergenic non-protein coding RNA 921</td>\n",
        "      <td>  NaN</td>\n",
        "      <td>    LINC00921</td>\n",
        "      <td> 9606</td>\n",
        "    </tr>\n",
        "    <tr>\n",
        "      <th>ENSG00000006194</th>\n",
        "      <td>     10127</td>\n",
        "      <td>     10127</td>\n",
        "      <td>                           zinc finger protein 263</td>\n",
        "      <td>  NaN</td>\n",
        "      <td>       ZNF263</td>\n",
        "      <td> 9606</td>\n",
        "    </tr>\n",
        "    <tr>\n",
        "      <th>ENSG00000006282</th>\n",
        "      <td>     64847</td>\n",
        "      <td>     64847</td>\n",
        "      <td>                     spermatogenesis associated 20</td>\n",
        "      <td>  NaN</td>\n",
        "      <td>      SPATA20</td>\n",
        "      <td> 9606</td>\n",
        "    </tr>\n",
        "    <tr>\n",
        "      <th>...</th>\n",
        "      <td>...</td>\n",
        "      <td>...</td>\n",
        "      <td>...</td>\n",
        "      <td>...</td>\n",
        "      <td>...</td>\n",
        "      <td>...</td>\n",
        "    </tr>\n",
        "    <tr>\n",
        "      <th>ENSG00000253831</th>\n",
        "      <td>    440695</td>\n",
        "      <td>    440695</td>\n",
        "      <td>                                ets variant 3-like</td>\n",
        "      <td>  NaN</td>\n",
        "      <td>        ETV3L</td>\n",
        "      <td> 9606</td>\n",
        "    </tr>\n",
        "    <tr>\n",
        "      <th>ENSG00000254402</th>\n",
        "      <td>    441381</td>\n",
        "      <td>    441381</td>\n",
        "      <td>                 leucine rich repeat containing 24</td>\n",
        "      <td>  NaN</td>\n",
        "      <td>       LRRC24</td>\n",
        "      <td> 9606</td>\n",
        "    </tr>\n",
        "    <tr>\n",
        "      <th>ENSG00000254656</th>\n",
        "      <td>    388015</td>\n",
        "      <td>    388015</td>\n",
        "      <td>                            retrotransposon-like 1</td>\n",
        "      <td>  NaN</td>\n",
        "      <td>         RTL1</td>\n",
        "      <td> 9606</td>\n",
        "    </tr>\n",
        "    <tr>\n",
        "      <th>ENSG00000254685</th>\n",
        "      <td>      8790</td>\n",
        "      <td>      8790</td>\n",
        "      <td>            fucose-1-phosphate guanylyltransferase</td>\n",
        "      <td>  NaN</td>\n",
        "      <td>         FPGT</td>\n",
        "      <td> 9606</td>\n",
        "    </tr>\n",
        "    <tr>\n",
        "      <th>ENSG00000254737</th>\n",
        "      <td>    390264</td>\n",
        "      <td>    390264</td>\n",
        "      <td> olfactory receptor, family 10, subfamily G, me...</td>\n",
        "      <td>  NaN</td>\n",
        "      <td>       OR10G4</td>\n",
        "      <td> 9606</td>\n",
        "    </tr>\n",
        "    <tr>\n",
        "      <th>ENSG00000254858</th>\n",
        "      <td>     84769</td>\n",
        "      <td>     84769</td>\n",
        "      <td>       MPV17 mitochondrial membrane protein-like 2</td>\n",
        "      <td>  NaN</td>\n",
        "      <td>      MPV17L2</td>\n",
        "      <td> 9606</td>\n",
        "    </tr>\n",
        "    <tr>\n",
        "      <th>ENSG00000255150</th>\n",
        "      <td>    493861</td>\n",
        "      <td>    493861</td>\n",
        "      <td>  EP300 interacting inhibitor of differentiation 3</td>\n",
        "      <td>  NaN</td>\n",
        "      <td>         EID3</td>\n",
        "      <td> 9606</td>\n",
        "    </tr>\n",
        "    <tr>\n",
        "      <th>ENSG00000255346</th>\n",
        "      <td>     79400</td>\n",
        "      <td>     79400</td>\n",
        "      <td>   NADPH oxidase, EF-hand calcium binding domain 5</td>\n",
        "      <td>  NaN</td>\n",
        "      <td>         NOX5</td>\n",
        "      <td> 9606</td>\n",
        "    </tr>\n",
        "    <tr>\n",
        "      <th>ENSG00000255374</th>\n",
        "      <td>    259289</td>\n",
        "      <td>    259289</td>\n",
        "      <td>                 taste receptor, type 2, member 43</td>\n",
        "      <td>  NaN</td>\n",
        "      <td>      TAS2R43</td>\n",
        "      <td> 9606</td>\n",
        "    </tr>\n",
        "    <tr>\n",
        "      <th>ENSG00000255398</th>\n",
        "      <td>      8843</td>\n",
        "      <td>      8843</td>\n",
        "      <td>                 hydroxycarboxylic acid receptor 3</td>\n",
        "      <td>  NaN</td>\n",
        "      <td>        HCAR3</td>\n",
        "      <td> 9606</td>\n",
        "    </tr>\n",
        "    <tr>\n",
        "      <th>ENSG00000255529</th>\n",
        "      <td>     81488</td>\n",
        "      <td>     81488</td>\n",
        "      <td>  polymerase (RNA) II (DNA directed) polypeptide M</td>\n",
        "      <td>  NaN</td>\n",
        "      <td>       POLR2M</td>\n",
        "      <td> 9606</td>\n",
        "    </tr>\n",
        "    <tr>\n",
        "      <th>ENSG00000255529</th>\n",
        "      <td>    145781</td>\n",
        "      <td>    145781</td>\n",
        "      <td>                           GRINL1A complex locus 1</td>\n",
        "      <td>  NaN</td>\n",
        "      <td>        GCOM1</td>\n",
        "      <td> 9606</td>\n",
        "    </tr>\n",
        "    <tr>\n",
        "      <th>ENSG00000255837</th>\n",
        "      <td>    259295</td>\n",
        "      <td>    259295</td>\n",
        "      <td>                 taste receptor, type 2, member 20</td>\n",
        "      <td>  NaN</td>\n",
        "      <td>      TAS2R20</td>\n",
        "      <td> 9606</td>\n",
        "    </tr>\n",
        "    <tr>\n",
        "      <th>ENSG00000255974</th>\n",
        "      <td>      1548</td>\n",
        "      <td>      1548</td>\n",
        "      <td> cytochrome P450, family 2, subfamily A, polype...</td>\n",
        "      <td>  NaN</td>\n",
        "      <td>       CYP2A6</td>\n",
        "      <td> 9606</td>\n",
        "    </tr>\n",
        "    <tr>\n",
        "      <th>ENSG00000256053</th>\n",
        "      <td>     84334</td>\n",
        "      <td>     84334</td>\n",
        "      <td>                      apoptogenic 1, mitochondrial</td>\n",
        "      <td>  NaN</td>\n",
        "      <td>       APOPT1</td>\n",
        "      <td> 9606</td>\n",
        "    </tr>\n",
        "    <tr>\n",
        "      <th>ENSG00000256061</th>\n",
        "      <td>    161582</td>\n",
        "      <td>    161582</td>\n",
        "      <td>             dyslexia susceptibility 1 candidate 1</td>\n",
        "      <td>  NaN</td>\n",
        "      <td>       DYX1C1</td>\n",
        "      <td> 9606</td>\n",
        "    </tr>\n",
        "    <tr>\n",
        "      <th>ENSG00000256223</th>\n",
        "      <td>      7556</td>\n",
        "      <td>      7556</td>\n",
        "      <td>                            zinc finger protein 10</td>\n",
        "      <td>  NaN</td>\n",
        "      <td>        ZNF10</td>\n",
        "      <td> 9606</td>\n",
        "    </tr>\n",
        "    <tr>\n",
        "      <th>ENSG00000256436</th>\n",
        "      <td>    259290</td>\n",
        "      <td>    259290</td>\n",
        "      <td>                 taste receptor, type 2, member 31</td>\n",
        "      <td>  NaN</td>\n",
        "      <td>      TAS2R31</td>\n",
        "      <td> 9606</td>\n",
        "    </tr>\n",
        "    <tr>\n",
        "      <th>ENSG00000256453</th>\n",
        "      <td>    373863</td>\n",
        "      <td>    373863</td>\n",
        "      <td>      DND microRNA-mediated repression inhibitor 1</td>\n",
        "      <td>  NaN</td>\n",
        "      <td>         DND1</td>\n",
        "      <td> 9606</td>\n",
        "    </tr>\n",
        "    <tr>\n",
        "      <th>ENSG00000257017</th>\n",
        "      <td>      3240</td>\n",
        "      <td>      3240</td>\n",
        "      <td>                                       haptoglobin</td>\n",
        "      <td>  NaN</td>\n",
        "      <td>           HP</td>\n",
        "      <td> 9606</td>\n",
        "    </tr>\n",
        "    <tr>\n",
        "      <th>ENSG00000257017</th>\n",
        "      <td> 102725471</td>\n",
        "      <td> 102725471</td>\n",
        "      <td>                      uncharacterized LOC102725471</td>\n",
        "      <td>  NaN</td>\n",
        "      <td> LOC102725471</td>\n",
        "      <td> 9606</td>\n",
        "    </tr>\n",
        "    <tr>\n",
        "      <th>ENSG00000257017</th>\n",
        "      <td>      3250</td>\n",
        "      <td>      3250</td>\n",
        "      <td>                       haptoglobin-related protein</td>\n",
        "      <td>  NaN</td>\n",
        "      <td>          HPR</td>\n",
        "      <td> 9606</td>\n",
        "    </tr>\n",
        "    <tr>\n",
        "      <th>ENSG00000257076</th>\n",
        "      <td>       NaN</td>\n",
        "      <td>       NaN</td>\n",
        "      <td>                                               NaN</td>\n",
        "      <td> True</td>\n",
        "      <td>          NaN</td>\n",
        "      <td>  NaN</td>\n",
        "    </tr>\n",
        "    <tr>\n",
        "      <th>ENSG00000257115</th>\n",
        "      <td>    440153</td>\n",
        "      <td>    440153</td>\n",
        "      <td> olfactory receptor, family 11, subfamily H, me...</td>\n",
        "      <td>  NaN</td>\n",
        "      <td>      OR11H12</td>\n",
        "      <td> 9606</td>\n",
        "    </tr>\n",
        "    <tr>\n",
        "      <th>ENSG00000257115</th>\n",
        "      <td>     79334</td>\n",
        "      <td>     79334</td>\n",
        "      <td> olfactory receptor, family 11, subfamily H, me...</td>\n",
        "      <td>  NaN</td>\n",
        "      <td>       OR11H2</td>\n",
        "      <td> 9606</td>\n",
        "    </tr>\n",
        "    <tr>\n",
        "      <th>ENSG00000257127</th>\n",
        "      <td>    574028</td>\n",
        "      <td>    574028</td>\n",
        "      <td>       chronic lymphocytic leukemia up-regulated 1</td>\n",
        "      <td>  NaN</td>\n",
        "      <td>        CLLU1</td>\n",
        "      <td> 9606</td>\n",
        "    </tr>\n",
        "    <tr>\n",
        "      <th>ENSG00000257127</th>\n",
        "      <td> 102724825</td>\n",
        "      <td> 102724825</td>\n",
        "      <td>                      uncharacterized LOC102724825</td>\n",
        "      <td>  NaN</td>\n",
        "      <td> LOC102724825</td>\n",
        "      <td> 9606</td>\n",
        "    </tr>\n",
        "    <tr>\n",
        "      <th>ENSG00000258366</th>\n",
        "      <td>     51750</td>\n",
        "      <td>     51750</td>\n",
        "      <td>       regulator of telomere elongation helicase 1</td>\n",
        "      <td>  NaN</td>\n",
        "      <td>        RTEL1</td>\n",
        "      <td> 9606</td>\n",
        "    </tr>\n",
        "    <tr>\n",
        "      <th>ENSG00000258429</th>\n",
        "      <td>     64146</td>\n",
        "      <td>     64146</td>\n",
        "      <td>               peptide deformylase (mitochondrial)</td>\n",
        "      <td>  NaN</td>\n",
        "      <td>          PDF</td>\n",
        "      <td> 9606</td>\n",
        "    </tr>\n",
        "    <tr>\n",
        "      <th>ENSG00000258484</th>\n",
        "      <td>    246777</td>\n",
        "      <td>    246777</td>\n",
        "      <td>                sperm equatorial segment protein 1</td>\n",
        "      <td>  NaN</td>\n",
        "      <td>       SPESP1</td>\n",
        "      <td> 9606</td>\n",
        "    </tr>\n",
        "  </tbody>\n",
        "</table>\n",
        "<p>3717 rows \u00d7 6 columns</p>\n",
        "</div>"
       ],
       "metadata": {},
       "output_type": "pyout",
       "prompt_number": 160,
       "text": [
        "                       _id  entrezgene  \\\n",
        "query                                    \n",
        "ENSG00000000971       3075        3075   \n",
        "ENSG00000001461      57185       57185   \n",
        "ENSG00000001617       6405        6405   \n",
        "ENSG00000001629      54467       54467   \n",
        "ENSG00000002726         26          26   \n",
        "ENSG00000002746  102724911   102724911   \n",
        "ENSG00000002746      23072       23072   \n",
        "ENSG00000003147       3382        3382   \n",
        "ENSG00000003987       9108        9108   \n",
        "ENSG00000004139      23098       23098   \n",
        "ENSG00000004399      23129       23129   \n",
        "ENSG00000004455        204         204   \n",
        "ENSG00000004766      55610       55610   \n",
        "ENSG00000004846     340273      340273   \n",
        "ENSG00000004897        996         996   \n",
        "ENSG00000005022        292         292   \n",
        "ENSG00000005156       3980        3980   \n",
        "ENSG00000005187       6296        6296   \n",
        "ENSG00000005238      80256       80256   \n",
        "ENSG00000005379       9256        9256   \n",
        "ENSG00000005421       5444        5444   \n",
        "ENSG00000005436       6936        6936   \n",
        "ENSG00000005483      55904       55904   \n",
        "ENSG00000005810      23077       23077   \n",
        "ENSG00000005844       3683        3683   \n",
        "ENSG00000006025     114881      114881   \n",
        "ENSG00000006118      54972       54972   \n",
        "ENSG00000006194     283876      283876   \n",
        "ENSG00000006194      10127       10127   \n",
        "ENSG00000006282      64847       64847   \n",
        "...                    ...         ...   \n",
        "ENSG00000253831     440695      440695   \n",
        "ENSG00000254402     441381      441381   \n",
        "ENSG00000254656     388015      388015   \n",
        "ENSG00000254685       8790        8790   \n",
        "ENSG00000254737     390264      390264   \n",
        "ENSG00000254858      84769       84769   \n",
        "ENSG00000255150     493861      493861   \n",
        "ENSG00000255346      79400       79400   \n",
        "ENSG00000255374     259289      259289   \n",
        "ENSG00000255398       8843        8843   \n",
        "ENSG00000255529      81488       81488   \n",
        "ENSG00000255529     145781      145781   \n",
        "ENSG00000255837     259295      259295   \n",
        "ENSG00000255974       1548        1548   \n",
        "ENSG00000256053      84334       84334   \n",
        "ENSG00000256061     161582      161582   \n",
        "ENSG00000256223       7556        7556   \n",
        "ENSG00000256436     259290      259290   \n",
        "ENSG00000256453     373863      373863   \n",
        "ENSG00000257017       3240        3240   \n",
        "ENSG00000257017  102725471   102725471   \n",
        "ENSG00000257017       3250        3250   \n",
        "ENSG00000257076        NaN         NaN   \n",
        "ENSG00000257115     440153      440153   \n",
        "ENSG00000257115      79334       79334   \n",
        "ENSG00000257127     574028      574028   \n",
        "ENSG00000257127  102724825   102724825   \n",
        "ENSG00000258366      51750       51750   \n",
        "ENSG00000258429      64146       64146   \n",
        "ENSG00000258484     246777      246777   \n",
        "\n",
        "                                                              name notfound  \\\n",
        "query                                                                         \n",
        "ENSG00000000971                                complement factor H      NaN   \n",
        "ENSG00000001461                      NIPA-like domain containing 3      NaN   \n",
        "ENSG00000001617  sema domain, immunoglobulin domain (Ig), short...      NaN   \n",
        "ENSG00000001629         ankyrin repeat and IBR domain containing 1      NaN   \n",
        "ENSG00000002726                 amine oxidase, copper containing 1      NaN   \n",
        "ENSG00000002746                       uncharacterized LOC102724911      NaN   \n",
        "ENSG00000002746  HECT, C2 and WW domain containing E3 ubiquitin...      NaN   \n",
        "ENSG00000003147                    islet cell autoantigen 1, 69kDa      NaN   \n",
        "ENSG00000003987                     myotubularin related protein 7      NaN   \n",
        "ENSG00000004139           sterile alpha and TIR motif containing 1      NaN   \n",
        "ENSG00000004399                                          plexin D1      NaN   \n",
        "ENSG00000004455                                 adenylate kinase 2      NaN   \n",
        "ENSG00000004766                  coiled-coil domain containing 132      NaN   \n",
        "ENSG00000004846  ATP-binding cassette, sub-family B (MDR/TAP), ...      NaN   \n",
        "ENSG00000004897                             cell division cycle 27      NaN   \n",
        "ENSG00000005022  solute carrier family 25 (mitochondrial carrie...      NaN   \n",
        "ENSG00000005156                     ligase III, DNA, ATP-dependent      NaN   \n",
        "ENSG00000005187   acyl-CoA synthetase medium-chain family member 3      NaN   \n",
        "ENSG00000005238      family with sequence similarity 214, member B      NaN   \n",
        "ENSG00000005379  benzodiazepine receptor (peripheral) associate...      NaN   \n",
        "ENSG00000005421                                      paraoxonase 1      NaN   \n",
        "ENSG00000005436              GC-rich sequence DNA-binding factor 2      NaN   \n",
        "ENSG00000005483           lysine (K)-specific methyltransferase 2E      NaN   \n",
        "ENSG00000005810  MYC binding protein 2, E3 ubiquitin protein li...      NaN   \n",
        "ENSG00000005844  integrin, alpha L (antigen CD11A (p180), lymph...      NaN   \n",
        "ENSG00000006025                   oxysterol binding protein-like 7      NaN   \n",
        "ENSG00000006118                         transmembrane protein 132A      NaN   \n",
        "ENSG00000006194         long intergenic non-protein coding RNA 921      NaN   \n",
        "ENSG00000006194                            zinc finger protein 263      NaN   \n",
        "ENSG00000006282                      spermatogenesis associated 20      NaN   \n",
        "...                                                            ...      ...   \n",
        "ENSG00000253831                                 ets variant 3-like      NaN   \n",
        "ENSG00000254402                  leucine rich repeat containing 24      NaN   \n",
        "ENSG00000254656                             retrotransposon-like 1      NaN   \n",
        "ENSG00000254685             fucose-1-phosphate guanylyltransferase      NaN   \n",
        "ENSG00000254737  olfactory receptor, family 10, subfamily G, me...      NaN   \n",
        "ENSG00000254858        MPV17 mitochondrial membrane protein-like 2      NaN   \n",
        "ENSG00000255150   EP300 interacting inhibitor of differentiation 3      NaN   \n",
        "ENSG00000255346    NADPH oxidase, EF-hand calcium binding domain 5      NaN   \n",
        "ENSG00000255374                  taste receptor, type 2, member 43      NaN   \n",
        "ENSG00000255398                  hydroxycarboxylic acid receptor 3      NaN   \n",
        "ENSG00000255529   polymerase (RNA) II (DNA directed) polypeptide M      NaN   \n",
        "ENSG00000255529                            GRINL1A complex locus 1      NaN   \n",
        "ENSG00000255837                  taste receptor, type 2, member 20      NaN   \n",
        "ENSG00000255974  cytochrome P450, family 2, subfamily A, polype...      NaN   \n",
        "ENSG00000256053                       apoptogenic 1, mitochondrial      NaN   \n",
        "ENSG00000256061              dyslexia susceptibility 1 candidate 1      NaN   \n",
        "ENSG00000256223                             zinc finger protein 10      NaN   \n",
        "ENSG00000256436                  taste receptor, type 2, member 31      NaN   \n",
        "ENSG00000256453       DND microRNA-mediated repression inhibitor 1      NaN   \n",
        "ENSG00000257017                                        haptoglobin      NaN   \n",
        "ENSG00000257017                       uncharacterized LOC102725471      NaN   \n",
        "ENSG00000257017                        haptoglobin-related protein      NaN   \n",
        "ENSG00000257076                                                NaN     True   \n",
        "ENSG00000257115  olfactory receptor, family 11, subfamily H, me...      NaN   \n",
        "ENSG00000257115  olfactory receptor, family 11, subfamily H, me...      NaN   \n",
        "ENSG00000257127        chronic lymphocytic leukemia up-regulated 1      NaN   \n",
        "ENSG00000257127                       uncharacterized LOC102724825      NaN   \n",
        "ENSG00000258366        regulator of telomere elongation helicase 1      NaN   \n",
        "ENSG00000258429                peptide deformylase (mitochondrial)      NaN   \n",
        "ENSG00000258484                 sperm equatorial segment protein 1      NaN   \n",
        "\n",
        "                       symbol  taxid  \n",
        "query                                 \n",
        "ENSG00000000971           CFH   9606  \n",
        "ENSG00000001461        NIPAL3   9606  \n",
        "ENSG00000001617        SEMA3F   9606  \n",
        "ENSG00000001629        ANKIB1   9606  \n",
        "ENSG00000002726          AOC1   9606  \n",
        "ENSG00000002746  LOC102724911   9606  \n",
        "ENSG00000002746         HECW1   9606  \n",
        "ENSG00000003147          ICA1   9606  \n",
        "ENSG00000003987         MTMR7   9606  \n",
        "ENSG00000004139         SARM1   9606  \n",
        "ENSG00000004399        PLXND1   9606  \n",
        "ENSG00000004455           AK2   9606  \n",
        "ENSG00000004766       CCDC132   9606  \n",
        "ENSG00000004846         ABCB5   9606  \n",
        "ENSG00000004897         CDC27   9606  \n",
        "ENSG00000005022       SLC25A5   9606  \n",
        "ENSG00000005156          LIG3   9606  \n",
        "ENSG00000005187         ACSM3   9606  \n",
        "ENSG00000005238       FAM214B   9606  \n",
        "ENSG00000005379        BZRAP1   9606  \n",
        "ENSG00000005421          PON1   9606  \n",
        "ENSG00000005436         GCFC2   9606  \n",
        "ENSG00000005483         KMT2E   9606  \n",
        "ENSG00000005810        MYCBP2   9606  \n",
        "ENSG00000005844         ITGAL   9606  \n",
        "ENSG00000006025        OSBPL7   9606  \n",
        "ENSG00000006118      TMEM132A   9606  \n",
        "ENSG00000006194     LINC00921   9606  \n",
        "ENSG00000006194        ZNF263   9606  \n",
        "ENSG00000006282       SPATA20   9606  \n",
        "...                       ...    ...  \n",
        "ENSG00000253831         ETV3L   9606  \n",
        "ENSG00000254402        LRRC24   9606  \n",
        "ENSG00000254656          RTL1   9606  \n",
        "ENSG00000254685          FPGT   9606  \n",
        "ENSG00000254737        OR10G4   9606  \n",
        "ENSG00000254858       MPV17L2   9606  \n",
        "ENSG00000255150          EID3   9606  \n",
        "ENSG00000255346          NOX5   9606  \n",
        "ENSG00000255374       TAS2R43   9606  \n",
        "ENSG00000255398         HCAR3   9606  \n",
        "ENSG00000255529        POLR2M   9606  \n",
        "ENSG00000255529         GCOM1   9606  \n",
        "ENSG00000255837       TAS2R20   9606  \n",
        "ENSG00000255974        CYP2A6   9606  \n",
        "ENSG00000256053        APOPT1   9606  \n",
        "ENSG00000256061        DYX1C1   9606  \n",
        "ENSG00000256223         ZNF10   9606  \n",
        "ENSG00000256436       TAS2R31   9606  \n",
        "ENSG00000256453          DND1   9606  \n",
        "ENSG00000257017            HP   9606  \n",
        "ENSG00000257017  LOC102725471   9606  \n",
        "ENSG00000257017           HPR   9606  \n",
        "ENSG00000257076           NaN    NaN  \n",
        "ENSG00000257115       OR11H12   9606  \n",
        "ENSG00000257115        OR11H2   9606  \n",
        "ENSG00000257127         CLLU1   9606  \n",
        "ENSG00000257127  LOC102724825   9606  \n",
        "ENSG00000258366         RTEL1   9606  \n",
        "ENSG00000258429           PDF   9606  \n",
        "ENSG00000258484        SPESP1   9606  \n",
        "\n",
        "[3717 rows x 6 columns]"
       ]
      }
     ],
     "prompt_number": 160
    },
    {
     "cell_type": "code",
     "collapsed": false,
     "input": [
      "#mg.getgenes([7273],'name,symbol,refseq.rna', as_dataframe=True)\n",
      "#mg.getgene(1017)"
     ],
     "language": "python",
     "metadata": {},
     "outputs": [],
     "prompt_number": 92
    },
    {
     "cell_type": "code",
     "collapsed": false,
     "input": [
      "#gene_ids = [mg.query(q='type_of_gene:protein-coding', fields='entrezgene', species='human', skip=i, size=i+1000, as_dataframe=True) for i in range(0,21000,1000)]     \n",
      "# gene_ids_df = pd.concat(gene_ids)\n",
      "# gene_ids_df.index = range(0,len(gene_ids_df))\n",
      "# gene_ids_df.drop_duplicates(inplace=True)\n",
      "gene_ids_df = pd.read_table('../gene_ids.txt',sep='\\t')\n",
      "#print len(gene_ids_df)"
     ],
     "language": "python",
     "metadata": {},
     "outputs": [],
     "prompt_number": 93
    },
    {
     "cell_type": "code",
     "collapsed": false,
     "input": [
      "gene_ids_df.head()"
     ],
     "language": "python",
     "metadata": {},
     "outputs": [
      {
       "html": [
        "<div style=\"max-height:1000px;max-width:1500px;overflow:auto;\">\n",
        "<table border=\"1\" class=\"dataframe\">\n",
        "  <thead>\n",
        "    <tr style=\"text-align: right;\">\n",
        "      <th></th>\n",
        "      <th>Unnamed: 0</th>\n",
        "      <th>_id</th>\n",
        "      <th>_score</th>\n",
        "      <th>entrezgene</th>\n",
        "    </tr>\n",
        "  </thead>\n",
        "  <tbody>\n",
        "    <tr>\n",
        "      <th>0</th>\n",
        "      <td> 0</td>\n",
        "      <td> 10491</td>\n",
        "      <td> 3.580785</td>\n",
        "      <td> 10491</td>\n",
        "    </tr>\n",
        "    <tr>\n",
        "      <th>1</th>\n",
        "      <td> 1</td>\n",
        "      <td> 10509</td>\n",
        "      <td> 3.580785</td>\n",
        "      <td> 10509</td>\n",
        "    </tr>\n",
        "    <tr>\n",
        "      <th>2</th>\n",
        "      <td> 2</td>\n",
        "      <td> 10516</td>\n",
        "      <td> 3.580785</td>\n",
        "      <td> 10516</td>\n",
        "    </tr>\n",
        "    <tr>\n",
        "      <th>3</th>\n",
        "      <td> 3</td>\n",
        "      <td> 10523</td>\n",
        "      <td> 3.580785</td>\n",
        "      <td> 10523</td>\n",
        "    </tr>\n",
        "    <tr>\n",
        "      <th>4</th>\n",
        "      <td> 4</td>\n",
        "      <td> 10535</td>\n",
        "      <td> 3.580785</td>\n",
        "      <td> 10535</td>\n",
        "    </tr>\n",
        "  </tbody>\n",
        "</table>\n",
        "</div>"
       ],
       "metadata": {},
       "output_type": "pyout",
       "prompt_number": 94,
       "text": [
        "   Unnamed: 0    _id    _score  entrezgene\n",
        "0           0  10491  3.580785       10491\n",
        "1           1  10509  3.580785       10509\n",
        "2           2  10516  3.580785       10516\n",
        "3           3  10523  3.580785       10523\n",
        "4           4  10535  3.580785       10535"
       ]
      }
     ],
     "prompt_number": 94
    },
    {
     "cell_type": "heading",
     "level": 1,
     "metadata": {},
     "source": [
      "Gene Specific Functional Impact Score Function"
     ]
    },
    {
     "cell_type": "heading",
     "level": 3,
     "metadata": {},
     "source": [
      "Get CDS exon range"
     ]
    },
    {
     "cell_type": "code",
     "collapsed": false,
     "input": [
      "#Split gene_ids into chunks of 1000\n",
      "gene_id_chunks = [[]]\n",
      "for n,gene_id in enumerate(gene_ids_df.entrezgene):\n",
      "    if n % 1000 == 0 and n != 0:\n",
      "        gene_id_chunks.append([])\n",
      "    gene_id_chunks[-1].append(gene_id)\n",
      "    \n",
      "\n",
      "gene_exons_df = []\n",
      "for gene_ids in gene_id_chunks:\n",
      "    q_many = mg.querymany(qterms=gene_ids,fields='exons_hg19', as_dataframe=True)\n",
      "    q_many.dropna(subset=['exons_hg19'], inplace=True)\n",
      "    gene_exons_df.append(q_many)\n",
      "    "
     ],
     "language": "python",
     "metadata": {},
     "outputs": [
      {
       "output_type": "stream",
       "stream": "stdout",
       "text": [
        "Finished.\n",
        "Finished."
       ]
      },
      {
       "output_type": "stream",
       "stream": "stdout",
       "text": [
        "\n",
        "Finished."
       ]
      },
      {
       "output_type": "stream",
       "stream": "stdout",
       "text": [
        "\n",
        "Finished."
       ]
      },
      {
       "output_type": "stream",
       "stream": "stdout",
       "text": [
        "\n",
        "Finished."
       ]
      },
      {
       "output_type": "stream",
       "stream": "stdout",
       "text": [
        "\n",
        "Finished."
       ]
      },
      {
       "output_type": "stream",
       "stream": "stdout",
       "text": [
        "\n",
        "Finished."
       ]
      },
      {
       "output_type": "stream",
       "stream": "stdout",
       "text": [
        "\n",
        "Finished."
       ]
      },
      {
       "output_type": "stream",
       "stream": "stdout",
       "text": [
        "\n",
        "Finished."
       ]
      },
      {
       "output_type": "stream",
       "stream": "stdout",
       "text": [
        "\n",
        "Finished."
       ]
      },
      {
       "output_type": "stream",
       "stream": "stdout",
       "text": [
        "\n",
        "Finished."
       ]
      },
      {
       "output_type": "stream",
       "stream": "stdout",
       "text": [
        "\n",
        "Finished."
       ]
      },
      {
       "output_type": "stream",
       "stream": "stdout",
       "text": [
        "\n",
        "Finished."
       ]
      },
      {
       "output_type": "stream",
       "stream": "stdout",
       "text": [
        "\n",
        "Finished."
       ]
      },
      {
       "output_type": "stream",
       "stream": "stdout",
       "text": [
        "\n",
        "Finished."
       ]
      },
      {
       "output_type": "stream",
       "stream": "stdout",
       "text": [
        "\n",
        "Finished."
       ]
      },
      {
       "output_type": "stream",
       "stream": "stdout",
       "text": [
        "\n",
        "Finished."
       ]
      },
      {
       "output_type": "stream",
       "stream": "stdout",
       "text": [
        "\n",
        "Finished."
       ]
      },
      {
       "output_type": "stream",
       "stream": "stdout",
       "text": [
        "\n",
        "Finished."
       ]
      },
      {
       "output_type": "stream",
       "stream": "stdout",
       "text": [
        "\n",
        "Finished."
       ]
      },
      {
       "output_type": "stream",
       "stream": "stdout",
       "text": [
        "\n",
        "Finished."
       ]
      },
      {
       "output_type": "stream",
       "stream": "stdout",
       "text": [
        "\n",
        "Finished."
       ]
      },
      {
       "output_type": "stream",
       "stream": "stdout",
       "text": [
        "\n",
        "7 input query terms found dup hits:\n",
        "\t[(u'644717', 2), (u'9103', 2), (u'101060171', 2), (u'100130097', 2), (u'653268', 2), (u'89778', 2), \n",
        "Pass \"returnall=True\" to return complete lists of duplicate or missing query terms.\n"
       ]
      }
     ],
     "prompt_number": 202
    },
    {
     "cell_type": "code",
     "collapsed": false,
     "input": [
      "#Create CDS BED\n",
      "cds_df = []\n",
      "for n,idx in enumerate(gene_exons_df.index):\n",
      "    if 'exons_hg19' not in gene_exons_df.ix[idx].index:\n",
      "        cds_df.append(get_cds_intervals(gene_exons_df.ix[idx].head(1)['exons_hg19'][0]))\n",
      "        continue\n",
      "    cds_df.append(get_cds_intervals(gene_exons_df.ix[idx]['exons_hg19']))\n",
      "    if n % 1000 == 0:\n",
      "        print n\n",
      "cds_df = pd.concat(cds_df)"
     ],
     "language": "python",
     "metadata": {},
     "outputs": [
      {
       "output_type": "stream",
       "stream": "stdout",
       "text": [
        "0\n",
        "1000"
       ]
      },
      {
       "output_type": "stream",
       "stream": "stdout",
       "text": [
        "\n",
        "2000"
       ]
      },
      {
       "output_type": "stream",
       "stream": "stdout",
       "text": [
        "\n",
        "3000"
       ]
      },
      {
       "output_type": "stream",
       "stream": "stdout",
       "text": [
        "\n",
        "4000"
       ]
      },
      {
       "output_type": "stream",
       "stream": "stdout",
       "text": [
        "\n",
        "6000"
       ]
      },
      {
       "output_type": "stream",
       "stream": "stdout",
       "text": [
        "\n",
        "7000"
       ]
      },
      {
       "output_type": "stream",
       "stream": "stdout",
       "text": [
        "\n",
        "8000"
       ]
      },
      {
       "output_type": "stream",
       "stream": "stdout",
       "text": [
        "\n",
        "9000"
       ]
      },
      {
       "output_type": "stream",
       "stream": "stdout",
       "text": [
        "\n",
        "10000"
       ]
      },
      {
       "output_type": "stream",
       "stream": "stdout",
       "text": [
        "\n",
        "11000"
       ]
      },
      {
       "output_type": "stream",
       "stream": "stdout",
       "text": [
        "\n",
        "12000"
       ]
      },
      {
       "output_type": "stream",
       "stream": "stdout",
       "text": [
        "\n",
        "13000"
       ]
      },
      {
       "output_type": "stream",
       "stream": "stdout",
       "text": [
        "\n",
        "14000"
       ]
      },
      {
       "output_type": "stream",
       "stream": "stdout",
       "text": [
        "\n",
        "15000"
       ]
      },
      {
       "output_type": "stream",
       "stream": "stdout",
       "text": [
        "\n",
        "16000"
       ]
      },
      {
       "output_type": "stream",
       "stream": "stdout",
       "text": [
        "\n",
        "17000"
       ]
      },
      {
       "output_type": "stream",
       "stream": "stdout",
       "text": [
        "\n",
        "18000"
       ]
      },
      {
       "output_type": "stream",
       "stream": "stdout",
       "text": [
        "\n",
        "19000"
       ]
      },
      {
       "output_type": "stream",
       "stream": "stdout",
       "text": [
        "\n",
        "20000"
       ]
      },
      {
       "output_type": "stream",
       "stream": "stdout",
       "text": [
        "\n"
       ]
      }
     ],
     "prompt_number": 374
    },
    {
     "cell_type": "code",
     "collapsed": false,
     "input": [
      "\n",
      "def get_cds_coords(exons, cds_start, cds_end):\n",
      "    '''\n",
      "    This function returns coding exon ranges when given a \n",
      "    exon coordinate list  [[start1, end1], [start2, end2]],\n",
      "    the cds_start position and cds_end position \n",
      "    '''\n",
      "    \n",
      "    def start_change(exon_start_end, cds_start):\n",
      "        exon_start = int(exon_start_end[0])\n",
      "        exon_end = int(exon_start_end[1])\n",
      "        if cds_start > exon_end:  #discard 5' UTR exon\n",
      "            return 0\n",
      "        if cds_start >= exon_start and cds_start <= exon_end: #cds start within exon\n",
      "            return cds_start\n",
      "        return exon_start  #keep exon start\n",
      "    \n",
      "    \n",
      "    def end_change(exon_start_end, cds_end):\n",
      "        exon_start = int(exon_start_end[0])\n",
      "        exon_end = int(exon_start_end[1])\n",
      "        if cds_end <= exon_start: #discard 3' UTR exon\n",
      "            return 0\n",
      "        if cds_end >= exon_start and cds_end <= exon_end:  #cds end within exon\n",
      "            return cds_end\n",
      "        return exon_end  #keep exon end\n",
      "    \n",
      "    exon_coords = pd.DataFrame.from_records(exons)\n",
      "    exon_coords[0] = exon_coords.apply(start_change, args=[cds_start], axis=1)\n",
      "    exon_coords[1] = exon_coords.apply(end_change, args=[cds_end], axis=1)\n",
      "    exon_coords = exon_coords[(exon_coords[0]!=0) &(exon_coords[1]!=0)]\n",
      "    return exon_coords\n"
     ],
     "language": "python",
     "metadata": {},
     "outputs": [],
     "prompt_number": 114
    },
    {
     "cell_type": "code",
     "collapsed": false,
     "input": [
      "def get_cds_intervals(gene_data, one_based=True):\n",
      "    \n",
      "    '''\n",
      "    Note: the returned start coordinates are one-based, exclusive\n",
      "        This works with PyIntervalTree\n",
      "    example: get_gene_cds(10509)\n",
      "    \n",
      "    one_based = True for PyIntervalTree, start position is base\n",
      "    \n",
      "    one_based = False for BedTools, end position is base\n",
      "    '''\n",
      "    \n",
      "    \n",
      "    gene_chrom = ''\n",
      "    gene_coords_tracker = set()\n",
      "    \n",
      "    \n",
      "#     d_test = pd.DataFrame(gene_exons_df.ix[idx]['exons_hg19'])\n",
      "#     if 'cdsstart' in d_test.index: print 10\n",
      "    \n",
      "    \n",
      "    for tx in gene_data.keys():\n",
      "        \n",
      "       \n",
      "        if type(gene_data[tx]) == list:\n",
      "            gene_chrom = gene_data[tx][0]['chr']\n",
      "            if 'chr' not in gene_chrom:\n",
      "                gene_chrom = 'chr' + gene_chrom\n",
      "            gene_start = gene_data[tx][0]['cdsstart']\n",
      "            gene_end = gene_data[tx][0]['cdsend']\n",
      "            gene_exons = gene_data[tx][0]['exons']\n",
      "            \n",
      "        else:\n",
      "            gene_chrom = gene_data[tx]['chr']\n",
      "            if 'chr' not in gene_chrom:\n",
      "                gene_chrom = 'chr' + gene_chrom\n",
      "            gene_start = gene_data[tx]['cdsstart']\n",
      "            gene_end = gene_data[tx]['cdsend']\n",
      "            gene_exons = gene_data[tx]['exons']\n",
      "      \n",
      "    \n",
      "        \n",
      "        exon_coords = get_cds_coords(gene_exons, gene_start, gene_end)\n",
      "        \n",
      "        [gene_coords_tracker.add(tuple(exon_coords.ix[idx].values)) for idx in exon_coords.index]\n",
      "    \n",
      "    \n",
      "    if len(gene_coords_tracker) == 0:\n",
      "        return None\n",
      "    \n",
      "    cds_exon_df = pd.DataFrame.from_records(list(gene_coords_tracker))\n",
      "    cds_exon_df.columns = ['start', 'end']\n",
      "    cds_exon_df = cds_exon_df + 1\n",
      "    cds_exon_df['chr'] = gene_chrom\n",
      "    \n",
      "    if one_based == True:  #start position is base, PyIntervalTree\n",
      "        return cds_exon_df[['chr', 'start', 'end']]\n",
      "    \n",
      "    if one_based == False:  #end position is base, BedTools\n",
      "        cds_exon_df['start'] = cds_exon_df['start'] -1\n",
      "        cds_exon_df['end'] = cds_exon_df['end'] -1\n",
      "        return cds_exon_df[['chr', 'start', 'end']]\n",
      "    \n",
      "    "
     ],
     "language": "python",
     "metadata": {},
     "outputs": [],
     "prompt_number": 348
    },
    {
     "cell_type": "code",
     "collapsed": false,
     "input": [
      "cds_df.sort(columns=['chr','start'],inplace=True)\n",
      "#cds_df.to_csv('refseq_exon.bed',sep='\\t',header=False,index=False)"
     ],
     "language": "python",
     "metadata": {},
     "outputs": [],
     "prompt_number": 377
    },
    {
     "cell_type": "heading",
     "level": 3,
     "metadata": {},
     "source": [
      "Making a CDS bed file"
     ]
    },
    {
     "cell_type": "code",
     "collapsed": false,
     "input": [
      "gene_exons_df = pd.concat(gene_exons_df)"
     ],
     "language": "python",
     "metadata": {},
     "outputs": [],
     "prompt_number": 203
    },
    {
     "cell_type": "heading",
     "level": 3,
     "metadata": {},
     "source": [
      "Get VCF Exon df"
     ]
    },
    {
     "cell_type": "code",
     "collapsed": false,
     "input": [
      "def get_fi_score(chrom, start, end, score_id1, score_id2):\n",
      "    '''\n",
      "    Input mv.query_variant['hits']['hits']\n",
      "    '''\n",
      "    assert 'chr' in chrom, 'chr not in chrom'\n",
      "    start = str(int(start))\n",
      "    end = str(int(end))\n",
      "    \n",
      "    my_var = mv.query_variant( chrom + \":\" + start + \"-\" + end , size=2000)  #  \"chr1:100000-1000000\")\n",
      "    hits = my_var['hits']['hits']\n",
      "    \n",
      "\n",
      "    fi_scores = []\n",
      "    counter = 0\n",
      "    for i in hits:\n",
      "        try:\n",
      "            fi_scores.append([i['_source']['dbnsfp'][score_id1][score_id2], i['_source']['_id']])\n",
      "        except:\n",
      "            counter +=1\n",
      "            continue\n",
      "    \n",
      "    #print counter\n",
      "    if len(fi_scores) == 0: return []\n",
      "    fi_scores = pd.DataFrame.from_records(fi_scores)\n",
      "    #fi_scores = pd.DataFrame.from_records( [[i['_source']['dbnsfp'][score_id1][score_id2], i['_source']['_id']]  for i in hits] )\n",
      "    fi_scores.columns = ['score', 'id'] \n",
      "    fi_scores['POS'] = fi_scores['id'].str.split('.').str[-1].str.split('>').str[0].str[:-1]\n",
      "    fi_scores['REF'] = fi_scores['id'].str.split('.').str[-1].str.split('>').str[0].str[-1]\n",
      "    fi_scores['ALT'] = fi_scores['id'].str.split('.').str[-1].str.split('>').str[-1]\n",
      "    fi_scores['POS_ALT'] = fi_scores['POS'] + '_' + fi_scores['ALT']\n",
      "    fi_scores.set_index('POS_ALT', inplace=True)\n",
      "    fi_scores.sort(columns=['POS'], inplace=True)\n",
      "    return fi_scores\n",
      "    \n",
      "\n",
      "    "
     ],
     "language": "python",
     "metadata": {},
     "outputs": [],
     "prompt_number": 13
    },
    {
     "cell_type": "code",
     "collapsed": false,
     "input": [
      "mesa = pd.read_table('/Users/erickscott/Downloads/141117220353_BDX.txt',sep='\\t',header=None)\n"
     ],
     "language": "python",
     "metadata": {},
     "outputs": [],
     "prompt_number": 16
    },
    {
     "cell_type": "code",
     "collapsed": false,
     "input": [
      "mesa_tabix = mesa[0] + ':' + mesa[1].astype(str) + '-' + mesa[2].astype(str)\n"
     ],
     "language": "python",
     "metadata": {},
     "outputs": [],
     "prompt_number": 24
    },
    {
     "cell_type": "code",
     "collapsed": false,
     "input": [
      "\n",
      "mesa_tabix"
     ],
     "language": "python",
     "metadata": {},
     "outputs": [
      {
       "metadata": {},
       "output_type": "pyout",
       "prompt_number": 25,
       "text": [
        "0       chr5:75360713-75360714\n",
        "1      chr11:61802357-61802358\n",
        "2      chr22:21577778-21577779\n",
        "3          chr19:263645-263646\n",
        "4      chr19:54288906-54288907\n",
        "5          chr19:263524-263525\n",
        "6          chr19:263900-263901\n",
        "7          chr19:263874-263875\n",
        "8      chr19:44911193-44911194\n",
        "9       chr4:87109108-87109109\n",
        "10     chr19:48703159-48703160\n",
        "11    chr1:234722849-234722850\n",
        "12      chr9:15305379-15305380\n",
        "13    chr6:139508528-139508529\n",
        "14    chr1:109275683-109275684\n",
        "...\n",
        "103     chr8:143969374-143969375\n",
        "104    chr11:126374056-126374057\n",
        "105      chr12:57398796-57398797\n",
        "106      chr16:30907165-30907166\n",
        "107       chr8:10826418-10826419\n",
        "108      chr17:39657602-39657603\n",
        "109       chr1:25449241-25449242\n",
        "110     chr2:164684289-164684290\n",
        "111       chr7:21567733-21567734\n",
        "112       chr8:19986710-19986711\n",
        "113      chr18:60181789-60181790\n",
        "114     chr4:102267551-102267552\n",
        "115       chr7:72664688-72664689\n",
        "116      chr16:67894138-67894139\n",
        "117       chr7:73568543-73568544\n",
        "Length: 118, dtype: object"
       ]
      }
     ],
     "prompt_number": 25
    },
    {
     "cell_type": "code",
     "collapsed": false,
     "input": [
      "\n",
      "for i in mesa[3].unique():\n",
      "    print i"
     ],
     "language": "python",
     "metadata": {},
     "outputs": [
      {
       "output_type": "stream",
       "stream": "stdout",
       "text": [
        "rs12916\n",
        "rs174546\n",
        "rs181362\n",
        "rs386000\n",
        "rs439401\n",
        "rs442177\n",
        "rs492602\n",
        "rs514230\n",
        "rs581080\n",
        "rs605066\n",
        "rs629301\n",
        "rs635634\n",
        "rs645040\n",
        "rs737337\n",
        "rs838880\n",
        "rs964184\n",
        "rs1042034\n",
        "rs1169288\n",
        "rs1260326\n",
        "rs1367117\n",
        "rs1495741\n",
        "rs1532085\n",
        "rs1564348\n",
        "rs1689800\n",
        "rs1800562\n",
        "rs1800961\n",
        "rs1883025\n",
        "rs2000999\n",
        "rs2068888\n",
        "rs2072183\n",
        "rs2081687\n",
        "rs2131925\n",
        "rs2247056\n",
        "rs2255141\n",
        "rs2277862\n",
        "rs2290159\n",
        "rs2293889\n",
        "rs2412710\n",
        "rs2479409\n",
        "rs2642442\n",
        "rs2652834\n",
        "rs2737229\n",
        "rs2814944\n",
        "rs2814982\n",
        "rs2902940\n",
        "rs2923084\n",
        "rs2925979\n",
        "rs2929282\n",
        "rs2954029\n",
        "rs2972146\n",
        "rs3136441\n",
        "rs3177928\n",
        "rs3757354\n",
        "rs3764261\n",
        "rs4129767\n",
        "rs4148008\n",
        "rs4299376\n",
        "rs4420638\n",
        "rs4660293\n",
        "rs4731702\n",
        "rs4759375\n",
        "rs4765127\n",
        "rs4846914\n",
        "rs5756931\n",
        "rs6029526\n",
        "rs6065906\n",
        "rs6450176\n",
        "rs6511720\n",
        "rs6882076\n",
        "rs7134375\n",
        "rs7134594\n",
        "rs7206971\n",
        "rs7241918\n",
        "rs7255436\n",
        "rs7515577\n",
        "rs7570971\n",
        "rs7941030\n",
        "rs8017377\n",
        "rs9488822\n",
        "rs9686661\n",
        "rs9987289\n",
        "rs10128711\n",
        "rs10195252\n",
        "rs10401969\n",
        "rs10761731\n",
        "rs11065987\n",
        "rs11136341\n",
        "rs11220462\n",
        "rs11613352\n",
        "rs11649653\n",
        "rs11776767\n",
        "rs11869286\n",
        "rs12027135\n",
        "rs12328675\n",
        "rs12670798\n",
        "rs12678919\n",
        "rs12967135\n",
        "rs13107325\n",
        "rs13238203\n",
        "rs16942887\n",
        "rs17145738\n"
       ]
      }
     ],
     "prompt_number": 22
    },
    {
     "cell_type": "heading",
     "level": 1,
     "metadata": {},
     "source": [
      "Gene Expression Barcodes"
     ]
    },
    {
     "cell_type": "code",
     "collapsed": false,
     "input": [
      "mg = mygene.MyGeneInfo()\n",
      "affy_genes = mg.querymany(list(gebc_tissues['Unnamed: 0'].values), scopes=['reporter'], species='human', as_dataframe=True)"
     ],
     "language": "python",
     "metadata": {},
     "outputs": [
      {
       "output_type": "stream",
       "stream": "stdout",
       "text": [
        "querying 1-1000...done."
       ]
      },
      {
       "output_type": "stream",
       "stream": "stdout",
       "text": [
        "\n",
        "querying 1001-2000..."
       ]
      },
      {
       "output_type": "stream",
       "stream": "stdout",
       "text": [
        "done."
       ]
      },
      {
       "output_type": "stream",
       "stream": "stdout",
       "text": [
        "\n",
        "querying 2001-3000..."
       ]
      },
      {
       "output_type": "stream",
       "stream": "stdout",
       "text": [
        "done."
       ]
      },
      {
       "output_type": "stream",
       "stream": "stdout",
       "text": [
        "\n",
        "querying 3001-4000..."
       ]
      },
      {
       "output_type": "stream",
       "stream": "stdout",
       "text": [
        "done."
       ]
      },
      {
       "output_type": "stream",
       "stream": "stdout",
       "text": [
        "\n",
        "querying 4001-5000..."
       ]
      },
      {
       "output_type": "stream",
       "stream": "stdout",
       "text": [
        "done."
       ]
      },
      {
       "output_type": "stream",
       "stream": "stdout",
       "text": [
        "\n",
        "querying 5001-6000..."
       ]
      },
      {
       "output_type": "stream",
       "stream": "stdout",
       "text": [
        "done."
       ]
      },
      {
       "output_type": "stream",
       "stream": "stdout",
       "text": [
        "\n",
        "querying 6001-7000..."
       ]
      },
      {
       "output_type": "stream",
       "stream": "stdout",
       "text": [
        "done."
       ]
      },
      {
       "output_type": "stream",
       "stream": "stdout",
       "text": [
        "\n",
        "querying 7001-8000..."
       ]
      },
      {
       "output_type": "stream",
       "stream": "stdout",
       "text": [
        "done."
       ]
      },
      {
       "output_type": "stream",
       "stream": "stdout",
       "text": [
        "\n",
        "querying 8001-9000..."
       ]
      },
      {
       "output_type": "stream",
       "stream": "stdout",
       "text": [
        "done."
       ]
      },
      {
       "output_type": "stream",
       "stream": "stdout",
       "text": [
        "\n",
        "querying 9001-10000..."
       ]
      },
      {
       "output_type": "stream",
       "stream": "stdout",
       "text": [
        "done."
       ]
      },
      {
       "output_type": "stream",
       "stream": "stdout",
       "text": [
        "\n",
        "querying 10001-11000..."
       ]
      },
      {
       "output_type": "stream",
       "stream": "stdout",
       "text": [
        "done."
       ]
      },
      {
       "output_type": "stream",
       "stream": "stdout",
       "text": [
        "\n",
        "querying 11001-12000..."
       ]
      },
      {
       "output_type": "stream",
       "stream": "stdout",
       "text": [
        "done."
       ]
      },
      {
       "output_type": "stream",
       "stream": "stdout",
       "text": [
        "\n",
        "querying 12001-13000..."
       ]
      },
      {
       "output_type": "stream",
       "stream": "stdout",
       "text": [
        "done."
       ]
      },
      {
       "output_type": "stream",
       "stream": "stdout",
       "text": [
        "\n",
        "querying 13001-14000..."
       ]
      },
      {
       "output_type": "stream",
       "stream": "stdout",
       "text": [
        "done."
       ]
      },
      {
       "output_type": "stream",
       "stream": "stdout",
       "text": [
        "\n",
        "querying 14001-15000..."
       ]
      },
      {
       "output_type": "stream",
       "stream": "stdout",
       "text": [
        "done."
       ]
      },
      {
       "output_type": "stream",
       "stream": "stdout",
       "text": [
        "\n",
        "querying 15001-16000..."
       ]
      },
      {
       "output_type": "stream",
       "stream": "stdout",
       "text": [
        "done."
       ]
      },
      {
       "output_type": "stream",
       "stream": "stdout",
       "text": [
        "\n",
        "querying 16001-17000..."
       ]
      },
      {
       "output_type": "stream",
       "stream": "stdout",
       "text": [
        "done."
       ]
      },
      {
       "output_type": "stream",
       "stream": "stdout",
       "text": [
        "\n",
        "querying 17001-18000..."
       ]
      },
      {
       "output_type": "stream",
       "stream": "stdout",
       "text": [
        "done."
       ]
      },
      {
       "output_type": "stream",
       "stream": "stdout",
       "text": [
        "\n",
        "querying 18001-19000..."
       ]
      },
      {
       "output_type": "stream",
       "stream": "stdout",
       "text": [
        "done."
       ]
      },
      {
       "output_type": "stream",
       "stream": "stdout",
       "text": [
        "\n",
        "querying 19001-20000..."
       ]
      },
      {
       "output_type": "stream",
       "stream": "stdout",
       "text": [
        "done."
       ]
      },
      {
       "output_type": "stream",
       "stream": "stdout",
       "text": [
        "\n",
        "querying 20001-21000..."
       ]
      },
      {
       "output_type": "stream",
       "stream": "stdout",
       "text": [
        "done."
       ]
      },
      {
       "output_type": "stream",
       "stream": "stdout",
       "text": [
        "\n",
        "querying 21001-22000..."
       ]
      },
      {
       "output_type": "stream",
       "stream": "stdout",
       "text": [
        "done."
       ]
      },
      {
       "output_type": "stream",
       "stream": "stdout",
       "text": [
        "\n",
        "querying 22001-23000..."
       ]
      },
      {
       "output_type": "stream",
       "stream": "stdout",
       "text": [
        "done."
       ]
      },
      {
       "output_type": "stream",
       "stream": "stdout",
       "text": [
        "\n",
        "querying 23001-24000..."
       ]
      },
      {
       "output_type": "stream",
       "stream": "stdout",
       "text": [
        "done."
       ]
      },
      {
       "output_type": "stream",
       "stream": "stdout",
       "text": [
        "\n",
        "querying 24001-25000..."
       ]
      },
      {
       "output_type": "stream",
       "stream": "stdout",
       "text": [
        "done."
       ]
      },
      {
       "output_type": "stream",
       "stream": "stdout",
       "text": [
        "\n",
        "querying 25001-26000..."
       ]
      },
      {
       "output_type": "stream",
       "stream": "stdout",
       "text": [
        "done."
       ]
      },
      {
       "output_type": "stream",
       "stream": "stdout",
       "text": [
        "\n",
        "querying 26001-27000..."
       ]
      },
      {
       "output_type": "stream",
       "stream": "stdout",
       "text": [
        "done."
       ]
      },
      {
       "output_type": "stream",
       "stream": "stdout",
       "text": [
        "\n",
        "querying 27001-28000..."
       ]
      },
      {
       "output_type": "stream",
       "stream": "stdout",
       "text": [
        "done."
       ]
      },
      {
       "output_type": "stream",
       "stream": "stdout",
       "text": [
        "\n",
        "querying 28001-29000..."
       ]
      },
      {
       "output_type": "stream",
       "stream": "stdout",
       "text": [
        "done."
       ]
      },
      {
       "output_type": "stream",
       "stream": "stdout",
       "text": [
        "\n",
        "querying 29001-30000..."
       ]
      },
      {
       "output_type": "stream",
       "stream": "stdout",
       "text": [
        "done."
       ]
      },
      {
       "output_type": "stream",
       "stream": "stdout",
       "text": [
        "\n",
        "querying 30001-31000..."
       ]
      },
      {
       "output_type": "stream",
       "stream": "stdout",
       "text": [
        "done."
       ]
      },
      {
       "output_type": "stream",
       "stream": "stdout",
       "text": [
        "\n",
        "querying 31001-32000..."
       ]
      },
      {
       "output_type": "stream",
       "stream": "stdout",
       "text": [
        "done."
       ]
      },
      {
       "output_type": "stream",
       "stream": "stdout",
       "text": [
        "\n",
        "querying 32001-33000..."
       ]
      },
      {
       "output_type": "stream",
       "stream": "stdout",
       "text": [
        "done."
       ]
      },
      {
       "output_type": "stream",
       "stream": "stdout",
       "text": [
        "\n",
        "querying 33001-34000..."
       ]
      },
      {
       "output_type": "stream",
       "stream": "stdout",
       "text": [
        "done."
       ]
      },
      {
       "output_type": "stream",
       "stream": "stdout",
       "text": [
        "\n",
        "querying 34001-35000..."
       ]
      },
      {
       "output_type": "stream",
       "stream": "stdout",
       "text": [
        "done."
       ]
      },
      {
       "output_type": "stream",
       "stream": "stdout",
       "text": [
        "\n",
        "querying 35001-36000..."
       ]
      },
      {
       "output_type": "stream",
       "stream": "stdout",
       "text": [
        "done."
       ]
      },
      {
       "output_type": "stream",
       "stream": "stdout",
       "text": [
        "\n",
        "querying 36001-37000..."
       ]
      },
      {
       "output_type": "stream",
       "stream": "stdout",
       "text": [
        "done."
       ]
      },
      {
       "output_type": "stream",
       "stream": "stdout",
       "text": [
        "\n",
        "querying 37001-38000..."
       ]
      },
      {
       "output_type": "stream",
       "stream": "stdout",
       "text": [
        "done."
       ]
      },
      {
       "output_type": "stream",
       "stream": "stdout",
       "text": [
        "\n",
        "querying 38001-39000..."
       ]
      },
      {
       "output_type": "stream",
       "stream": "stdout",
       "text": [
        "done."
       ]
      },
      {
       "output_type": "stream",
       "stream": "stdout",
       "text": [
        "\n",
        "querying 39001-40000..."
       ]
      },
      {
       "output_type": "stream",
       "stream": "stdout",
       "text": [
        "done."
       ]
      },
      {
       "output_type": "stream",
       "stream": "stdout",
       "text": [
        "\n",
        "querying 40001-41000..."
       ]
      },
      {
       "output_type": "stream",
       "stream": "stdout",
       "text": [
        "done."
       ]
      },
      {
       "output_type": "stream",
       "stream": "stdout",
       "text": [
        "\n",
        "querying 41001-42000..."
       ]
      },
      {
       "output_type": "stream",
       "stream": "stdout",
       "text": [
        "done."
       ]
      },
      {
       "output_type": "stream",
       "stream": "stdout",
       "text": [
        "\n",
        "querying 42001-43000..."
       ]
      },
      {
       "output_type": "stream",
       "stream": "stdout",
       "text": [
        "done."
       ]
      },
      {
       "output_type": "stream",
       "stream": "stdout",
       "text": [
        "\n",
        "querying 43001-44000..."
       ]
      },
      {
       "output_type": "stream",
       "stream": "stdout",
       "text": [
        "done."
       ]
      },
      {
       "output_type": "stream",
       "stream": "stdout",
       "text": [
        "\n",
        "querying 44001-45000..."
       ]
      },
      {
       "output_type": "stream",
       "stream": "stdout",
       "text": [
        "done."
       ]
      },
      {
       "output_type": "stream",
       "stream": "stdout",
       "text": [
        "\n",
        "querying 45001-46000..."
       ]
      },
      {
       "output_type": "stream",
       "stream": "stdout",
       "text": [
        "done."
       ]
      },
      {
       "output_type": "stream",
       "stream": "stdout",
       "text": [
        "\n",
        "querying 46001-47000..."
       ]
      },
      {
       "output_type": "stream",
       "stream": "stdout",
       "text": [
        "done."
       ]
      },
      {
       "output_type": "stream",
       "stream": "stdout",
       "text": [
        "\n",
        "querying 47001-48000..."
       ]
      },
      {
       "output_type": "stream",
       "stream": "stdout",
       "text": [
        "done."
       ]
      },
      {
       "output_type": "stream",
       "stream": "stdout",
       "text": [
        "\n",
        "querying 48001-49000..."
       ]
      },
      {
       "output_type": "stream",
       "stream": "stdout",
       "text": [
        "done."
       ]
      },
      {
       "output_type": "stream",
       "stream": "stdout",
       "text": [
        "\n",
        "querying 49001-50000..."
       ]
      },
      {
       "output_type": "stream",
       "stream": "stdout",
       "text": [
        "done."
       ]
      },
      {
       "output_type": "stream",
       "stream": "stdout",
       "text": [
        "\n",
        "querying 50001-51000..."
       ]
      },
      {
       "output_type": "stream",
       "stream": "stdout",
       "text": [
        "done."
       ]
      },
      {
       "output_type": "stream",
       "stream": "stdout",
       "text": [
        "\n",
        "querying 51001-52000..."
       ]
      },
      {
       "output_type": "stream",
       "stream": "stdout",
       "text": [
        "done."
       ]
      },
      {
       "output_type": "stream",
       "stream": "stdout",
       "text": [
        "\n",
        "querying 52001-53000..."
       ]
      },
      {
       "output_type": "stream",
       "stream": "stdout",
       "text": [
        "done."
       ]
      },
      {
       "output_type": "stream",
       "stream": "stdout",
       "text": [
        "\n",
        "querying 53001-54000..."
       ]
      },
      {
       "output_type": "stream",
       "stream": "stdout",
       "text": [
        "done."
       ]
      },
      {
       "output_type": "stream",
       "stream": "stdout",
       "text": [
        "\n",
        "querying 54001-54675..."
       ]
      },
      {
       "output_type": "stream",
       "stream": "stdout",
       "text": [
        "done."
       ]
      },
      {
       "output_type": "stream",
       "stream": "stdout",
       "text": [
        "\n",
        "Finished.\n",
        "1565 input query terms found dup hits:"
       ]
      },
      {
       "output_type": "stream",
       "stream": "stdout",
       "text": [
        "\n",
        "\t[(u'235870_at', 2), (u'228245_s_at', 3), (u'221651_x_at', 2), (u'234366_x_at', 2), (u'204764_at', 2)\n",
        "12156 input query terms found no hit:\n",
        "\t[u'1552563_a_at', u'1552819_at', u'1552829_at', u'1552867_at', u'1552961_at', u'1552974_at', u'15529\n",
        "Pass \"returnall=True\" to return complete lists of duplicate or missing query terms.\n"
       ]
      }
     ],
     "prompt_number": 103
    },
    {
     "cell_type": "code",
     "collapsed": false,
     "input": [
      "affy_genes.dropna(subset=['symbol'], inplace=True)"
     ],
     "language": "python",
     "metadata": {},
     "outputs": [],
     "prompt_number": 105
    },
    {
     "cell_type": "code",
     "collapsed": false,
     "input": [
      "affy_genes.head()"
     ],
     "language": "python",
     "metadata": {},
     "outputs": [
      {
       "html": [
        "<div style=\"max-height:1000px;max-width:1500px;overflow:auto;\">\n",
        "<table border=\"1\" class=\"dataframe\">\n",
        "  <thead>\n",
        "    <tr style=\"text-align: right;\">\n",
        "      <th></th>\n",
        "      <th>_id</th>\n",
        "      <th>entrezgene</th>\n",
        "      <th>name</th>\n",
        "      <th>notfound</th>\n",
        "      <th>symbol</th>\n",
        "      <th>taxid</th>\n",
        "    </tr>\n",
        "    <tr>\n",
        "      <th>query</th>\n",
        "      <th></th>\n",
        "      <th></th>\n",
        "      <th></th>\n",
        "      <th></th>\n",
        "      <th></th>\n",
        "      <th></th>\n",
        "    </tr>\n",
        "  </thead>\n",
        "  <tbody>\n",
        "    <tr>\n",
        "      <th>1007_s_at</th>\n",
        "      <td>       780</td>\n",
        "      <td>       780</td>\n",
        "      <td> discoidin domain receptor tyrosine kinase 1</td>\n",
        "      <td> NaN</td>\n",
        "      <td>    DDR1</td>\n",
        "      <td> 9606</td>\n",
        "    </tr>\n",
        "    <tr>\n",
        "      <th>1007_s_at</th>\n",
        "      <td> 100616237</td>\n",
        "      <td> 100616237</td>\n",
        "      <td>                               microRNA 4640</td>\n",
        "      <td> NaN</td>\n",
        "      <td> MIR4640</td>\n",
        "      <td> 9606</td>\n",
        "    </tr>\n",
        "    <tr>\n",
        "      <th>1053_at</th>\n",
        "      <td>      5982</td>\n",
        "      <td>      5982</td>\n",
        "      <td> replication factor C (activator 1) 2, 40kDa</td>\n",
        "      <td> NaN</td>\n",
        "      <td>    RFC2</td>\n",
        "      <td> 9606</td>\n",
        "    </tr>\n",
        "    <tr>\n",
        "      <th>117_at</th>\n",
        "      <td>      3310</td>\n",
        "      <td>      3310</td>\n",
        "      <td>        heat shock 70kDa protein 6 (HSP70B')</td>\n",
        "      <td> NaN</td>\n",
        "      <td>   HSPA6</td>\n",
        "      <td> 9606</td>\n",
        "    </tr>\n",
        "    <tr>\n",
        "      <th>121_at</th>\n",
        "      <td>      7849</td>\n",
        "      <td>      7849</td>\n",
        "      <td>                                paired box 8</td>\n",
        "      <td> NaN</td>\n",
        "      <td>    PAX8</td>\n",
        "      <td> 9606</td>\n",
        "    </tr>\n",
        "  </tbody>\n",
        "</table>\n",
        "</div>"
       ],
       "metadata": {},
       "output_type": "pyout",
       "prompt_number": 109,
       "text": [
        "                 _id  entrezgene                                         name  \\\n",
        "query                                                                           \n",
        "1007_s_at        780         780  discoidin domain receptor tyrosine kinase 1   \n",
        "1007_s_at  100616237   100616237                                microRNA 4640   \n",
        "1053_at         5982        5982  replication factor C (activator 1) 2, 40kDa   \n",
        "117_at          3310        3310         heat shock 70kDa protein 6 (HSP70B')   \n",
        "121_at          7849        7849                                 paired box 8   \n",
        "\n",
        "          notfound   symbol  taxid  \n",
        "query                               \n",
        "1007_s_at      NaN     DDR1   9606  \n",
        "1007_s_at      NaN  MIR4640   9606  \n",
        "1053_at        NaN     RFC2   9606  \n",
        "117_at         NaN    HSPA6   9606  \n",
        "121_at         NaN     PAX8   9606  "
       ]
      }
     ],
     "prompt_number": 109
    },
    {
     "cell_type": "code",
     "collapsed": false,
     "input": [
      "gebc_tissues = pd.read_table('/Users/ers_vader/Downloads/abc-tis-gpl570-formatted_v3.csv',sep=',')\n",
      "gebc_tissues.set_index(['Unnamed: 0'], inplace=True)\n",
      "gebc_tissues.index.name = 'query'"
     ],
     "language": "python",
     "metadata": {},
     "outputs": [],
     "prompt_number": 97
    },
    {
     "cell_type": "code",
     "collapsed": false,
     "input": [
      "gebc_tissues.head()"
     ],
     "language": "python",
     "metadata": {},
     "outputs": [
      {
       "html": [
        "<div style=\"max-height:1000px;max-width:1500px;overflow:auto;\">\n",
        "<table border=\"1\" class=\"dataframe\">\n",
        "  <thead>\n",
        "    <tr style=\"text-align: right;\">\n",
        "      <th></th>\n",
        "      <th>10_tissue_mixture</th>\n",
        "      <th>accumbens</th>\n",
        "      <th>adipose_tissue</th>\n",
        "      <th>adipose_tissue_omental</th>\n",
        "      <th>adipose_tissue_subcutaneous</th>\n",
        "      <th>adrenal_gland_cortex</th>\n",
        "      <th>airway_basal_cells</th>\n",
        "      <th>airway_epithelial_cells</th>\n",
        "      <th>ambion_human_brain_reference_rna</th>\n",
        "      <th>amniocytes</th>\n",
        "      <th>...</th>\n",
        "      <th>transverse_colon</th>\n",
        "      <th>trigeminal_ganglia</th>\n",
        "      <th>uncinate_tissue</th>\n",
        "      <th>urethra</th>\n",
        "      <th>uterus</th>\n",
        "      <th>vagina</th>\n",
        "      <th>vastus_lateralis</th>\n",
        "      <th>ventral_tegmental_area</th>\n",
        "      <th>vestibular_nuclei_superior</th>\n",
        "      <th>vulva</th>\n",
        "    </tr>\n",
        "    <tr>\n",
        "      <th>query</th>\n",
        "      <th></th>\n",
        "      <th></th>\n",
        "      <th></th>\n",
        "      <th></th>\n",
        "      <th></th>\n",
        "      <th></th>\n",
        "      <th></th>\n",
        "      <th></th>\n",
        "      <th></th>\n",
        "      <th></th>\n",
        "      <th></th>\n",
        "      <th></th>\n",
        "      <th></th>\n",
        "      <th></th>\n",
        "      <th></th>\n",
        "      <th></th>\n",
        "      <th></th>\n",
        "      <th></th>\n",
        "      <th></th>\n",
        "      <th></th>\n",
        "      <th></th>\n",
        "    </tr>\n",
        "  </thead>\n",
        "  <tbody>\n",
        "    <tr>\n",
        "      <th>1007_s_at</th>\n",
        "      <td> 1</td>\n",
        "      <td> 1.000</td>\n",
        "      <td> 0.217</td>\n",
        "      <td> 0.4</td>\n",
        "      <td> 0.638</td>\n",
        "      <td> 1</td>\n",
        "      <td> 1.0</td>\n",
        "      <td> 1</td>\n",
        "      <td> 1</td>\n",
        "      <td> 1.000</td>\n",
        "      <td>...</td>\n",
        "      <td> 1</td>\n",
        "      <td> 1.00</td>\n",
        "      <td> 1</td>\n",
        "      <td> 1</td>\n",
        "      <td> 0.6</td>\n",
        "      <td> 1.000</td>\n",
        "      <td> 0.331</td>\n",
        "      <td> 1</td>\n",
        "      <td> 1</td>\n",
        "      <td> 1</td>\n",
        "    </tr>\n",
        "    <tr>\n",
        "      <th>1053_at</th>\n",
        "      <td> 0</td>\n",
        "      <td> 0.000</td>\n",
        "      <td> 0.000</td>\n",
        "      <td> 0.0</td>\n",
        "      <td> 0.000</td>\n",
        "      <td> 0</td>\n",
        "      <td> 0.2</td>\n",
        "      <td> 0</td>\n",
        "      <td> 0</td>\n",
        "      <td> 0.667</td>\n",
        "      <td>...</td>\n",
        "      <td> 0</td>\n",
        "      <td> 0.00</td>\n",
        "      <td> 0</td>\n",
        "      <td> 0</td>\n",
        "      <td> 0.0</td>\n",
        "      <td> 0.043</td>\n",
        "      <td> 0.000</td>\n",
        "      <td> 0</td>\n",
        "      <td> 0</td>\n",
        "      <td> 0</td>\n",
        "    </tr>\n",
        "    <tr>\n",
        "      <th>117_at</th>\n",
        "      <td> 0</td>\n",
        "      <td> 0.000</td>\n",
        "      <td> 0.009</td>\n",
        "      <td> 0.3</td>\n",
        "      <td> 0.234</td>\n",
        "      <td> 0</td>\n",
        "      <td> 0.0</td>\n",
        "      <td> 0</td>\n",
        "      <td> 0</td>\n",
        "      <td> 0.000</td>\n",
        "      <td>...</td>\n",
        "      <td> 0</td>\n",
        "      <td> 0.25</td>\n",
        "      <td> 0</td>\n",
        "      <td> 0</td>\n",
        "      <td> 0.0</td>\n",
        "      <td> 0.000</td>\n",
        "      <td> 0.000</td>\n",
        "      <td> 0</td>\n",
        "      <td> 0</td>\n",
        "      <td> 0</td>\n",
        "    </tr>\n",
        "    <tr>\n",
        "      <th>121_at</th>\n",
        "      <td> 0</td>\n",
        "      <td> 0.000</td>\n",
        "      <td> 0.000</td>\n",
        "      <td> 0.0</td>\n",
        "      <td> 0.000</td>\n",
        "      <td> 0</td>\n",
        "      <td> 0.0</td>\n",
        "      <td> 0</td>\n",
        "      <td> 0</td>\n",
        "      <td> 0.333</td>\n",
        "      <td>...</td>\n",
        "      <td> 0</td>\n",
        "      <td> 0.00</td>\n",
        "      <td> 0</td>\n",
        "      <td> 0</td>\n",
        "      <td> 0.0</td>\n",
        "      <td> 0.000</td>\n",
        "      <td> 0.000</td>\n",
        "      <td> 0</td>\n",
        "      <td> 0</td>\n",
        "      <td> 0</td>\n",
        "    </tr>\n",
        "    <tr>\n",
        "      <th>1255_g_at</th>\n",
        "      <td> 0</td>\n",
        "      <td> 0.267</td>\n",
        "      <td> 0.000</td>\n",
        "      <td> 0.0</td>\n",
        "      <td> 0.000</td>\n",
        "      <td> 0</td>\n",
        "      <td> 0.0</td>\n",
        "      <td> 0</td>\n",
        "      <td> 0</td>\n",
        "      <td> 0.000</td>\n",
        "      <td>...</td>\n",
        "      <td> 0</td>\n",
        "      <td> 0.00</td>\n",
        "      <td> 0</td>\n",
        "      <td> 0</td>\n",
        "      <td> 0.0</td>\n",
        "      <td> 0.000</td>\n",
        "      <td> 0.000</td>\n",
        "      <td> 0</td>\n",
        "      <td> 0</td>\n",
        "      <td> 0</td>\n",
        "    </tr>\n",
        "  </tbody>\n",
        "</table>\n",
        "<p>5 rows \u00d7 194 columns</p>\n",
        "</div>"
       ],
       "metadata": {},
       "output_type": "pyout",
       "prompt_number": 113,
       "text": [
        "           10_tissue_mixture  accumbens  adipose_tissue  \\\n",
        "query                                                     \n",
        "1007_s_at                  1      1.000           0.217   \n",
        "1053_at                    0      0.000           0.000   \n",
        "117_at                     0      0.000           0.009   \n",
        "121_at                     0      0.000           0.000   \n",
        "1255_g_at                  0      0.267           0.000   \n",
        "\n",
        "           adipose_tissue_omental  adipose_tissue_subcutaneous  \\\n",
        "query                                                            \n",
        "1007_s_at                     0.4                        0.638   \n",
        "1053_at                       0.0                        0.000   \n",
        "117_at                        0.3                        0.234   \n",
        "121_at                        0.0                        0.000   \n",
        "1255_g_at                     0.0                        0.000   \n",
        "\n",
        "           adrenal_gland_cortex  airway_basal_cells  airway_epithelial_cells  \\\n",
        "query                                                                          \n",
        "1007_s_at                     1                 1.0                        1   \n",
        "1053_at                       0                 0.2                        0   \n",
        "117_at                        0                 0.0                        0   \n",
        "121_at                        0                 0.0                        0   \n",
        "1255_g_at                     0                 0.0                        0   \n",
        "\n",
        "           ambion_human_brain_reference_rna  amniocytes     ...      \\\n",
        "query                                                       ...       \n",
        "1007_s_at                                 1       1.000     ...       \n",
        "1053_at                                   0       0.667     ...       \n",
        "117_at                                    0       0.000     ...       \n",
        "121_at                                    0       0.333     ...       \n",
        "1255_g_at                                 0       0.000     ...       \n",
        "\n",
        "           transverse_colon  trigeminal_ganglia  uncinate_tissue  urethra  \\\n",
        "query                                                                       \n",
        "1007_s_at                 1                1.00                1        1   \n",
        "1053_at                   0                0.00                0        0   \n",
        "117_at                    0                0.25                0        0   \n",
        "121_at                    0                0.00                0        0   \n",
        "1255_g_at                 0                0.00                0        0   \n",
        "\n",
        "           uterus  vagina  vastus_lateralis  ventral_tegmental_area  \\\n",
        "query                                                                 \n",
        "1007_s_at     0.6   1.000             0.331                       1   \n",
        "1053_at       0.0   0.043             0.000                       0   \n",
        "117_at        0.0   0.000             0.000                       0   \n",
        "121_at        0.0   0.000             0.000                       0   \n",
        "1255_g_at     0.0   0.000             0.000                       0   \n",
        "\n",
        "           vestibular_nuclei_superior  vulva  \n",
        "query                                         \n",
        "1007_s_at                           1      1  \n",
        "1053_at                             0      0  \n",
        "117_at                              0      0  \n",
        "121_at                              0      0  \n",
        "1255_g_at                           0      0  \n",
        "\n",
        "[5 rows x 194 columns]"
       ]
      }
     ],
     "prompt_number": 113
    },
    {
     "cell_type": "code",
     "collapsed": false,
     "input": [
      "gebc_tissues = gebc_tissues.join(affy_genes['symbol'], how='inner')"
     ],
     "language": "python",
     "metadata": {},
     "outputs": [],
     "prompt_number": 114
    },
    {
     "cell_type": "code",
     "collapsed": false,
     "input": [
      "gebc_tissues.set_index('symbol', inplace=True)"
     ],
     "language": "python",
     "metadata": {},
     "outputs": [],
     "prompt_number": 116
    },
    {
     "cell_type": "code",
     "collapsed": false,
     "input": [
      "\n",
      "tissue_genes = []\n",
      "\n",
      "for tissue in gebc_tissues.columns:\n",
      "    gebc_tissue = gebc_tissues[tissue]\n",
      "    gebc_tissue = gebc_tissue.groupby(level=0).aggregate(np.mean)\n",
      "    gebc_tissue = gebc_tissue[gebc_tissue >= 0.5]\n",
      "    tissue_genes.append(gebc_tissue)\n",
      "    "
     ],
     "language": "python",
     "metadata": {},
     "outputs": [],
     "prompt_number": 199
    },
    {
     "cell_type": "code",
     "collapsed": false,
     "input": [
      "for i in gebc_tissues.columns:\n",
      "    print i"
     ],
     "language": "python",
     "metadata": {},
     "outputs": [
      {
       "output_type": "stream",
       "stream": "stdout",
       "text": [
        "10_tissue_mixture\n",
        "accumbens\n",
        "adipose_tissue\n",
        "adipose_tissue_omental\n",
        "adipose_tissue_subcutaneous\n",
        "adrenal_gland_cortex\n",
        "airway_basal_cells\n",
        "airway_epithelial_cells\n",
        "ambion_human_brain_reference_rna\n",
        "amniocytes\n",
        "amniotic_fluid\n",
        "amygdala\n",
        "aorta\n",
        "aortic_valve\n",
        "artery\n",
        "ascending_colon\n",
        "ascending_colon_mucosa\n",
        "basal_ganglia\n",
        "biceps_brachii_muscle\n",
        "bladder\n",
        "blood\n",
        "bone_marrow\n",
        "brain\n",
        "brain_fp\n",
        "brain_grey_matter\n",
        "brain_white_matter\n",
        "breast\n",
        "breast_blood_vessels\n",
        "breast_ductal_cells\n",
        "breast_fibroblast\n",
        "breast_stroma\n",
        "bronchial_epithelial_cells\n",
        "bronchus\n",
        "buccal_mucosa\n",
        "caudate\n",
        "cerebellum\n",
        "cervix\n",
        "chorion_villus_cells\n",
        "colon\n",
        "colon_cecum\n",
        "colonic_mucosa\n",
        "conjunctiva\n",
        "cord_blood\n",
        "cornea\n",
        "coronary_artery\n",
        "coronary_smooth_muscle_cells\n",
        "corpus_callosum\n",
        "cortex\n",
        "deltoid_muscle\n",
        "dermal_dendritic_cell\n",
        "dorsal_root_ganglia\n",
        "effector_cd8+_t_cells\n",
        "endobronchial_epithelial_lining_fluid\n",
        "endometrial_endothelial_cell\n",
        "endometrium\n",
        "entorhinal_cortex\n",
        "epidermal_keratinocytes\n",
        "epididimus_caput\n",
        "epididimus_cauda\n",
        "epididimus_corpus\n",
        "epididimus_head\n",
        "epididimus_tail\n",
        "esophageal_squamous_epithelium\n",
        "esophagus\n",
        "fallopian_tube\n",
        "fallopian_tube_epithelium\n",
        "fetal_cartilage\n",
        "fetal_lung\n",
        "fibroblasts\n",
        "forearm_epdermis\n",
        "foreskin_fibroblast\n",
        "frontal_lobe\n",
        "gingival_epithelium\n",
        "gingival_tissue\n",
        "head_and_neck_epithelial_cells\n",
        "heart\n",
        "heart_atrium\n",
        "heart_ventricle\n",
        "hippocampus\n",
        "hypothalamus\n",
        "ileal_mucosa\n",
        "intestinal_mucosa\n",
        "jejunal_tissue\n",
        "kidney\n",
        "kidney_cortex\n",
        "kidney_medulla\n",
        "langerhans_cell\n",
        "left_atrial_appendage\n",
        "leukocytes\n",
        "liver\n",
        "lung\n",
        "lymphatic_endothelial_cells\n",
        "lymph_node\n",
        "lymphocytes\n",
        "macaca_fascicularis_blood\n",
        "macaca_mulatta_blood\n",
        "mammary_epithelial_cells\n",
        "mammary_gland\n",
        "maqc_sample_a,_ie,_stratagene_universal_human_reference_rna_(uhrr,_catalog_#740000)\n",
        "maqc_sample_b,_ie,_ambion_human_brain_reference_rna_(hbrr,_catalog_#6050)\n",
        "maqc_sample_c,_ie,_maqc_samples_a_and_b_mixed_at_75%:25%_ratio_(a:b)\n",
        "maqc_sample_d,_ie,_maqc_samples_a_and_b_mixed_at_25%:75%_ratio_(a:b)\n",
        "medial_temporal_gyrus\n",
        "medulla\n",
        "menstruation_blood\n",
        "midbrain\n",
        "mucosa\n",
        "myometrium\n",
        "nasal_tissue\n",
        "nasopharyngeal_epithelial_cells\n",
        "nipple_cross_section\n",
        "nodose_nucleus\n",
        "occipital_lobe\n",
        "oral_mucosa\n",
        "oral_tissue\n",
        "ovarian_stroma\n",
        "ovarian_surface_epithelium\n",
        "ovary\n",
        "pancreas\n",
        "parietal_lobe\n",
        "parotid_gland\n",
        "pbmc\n",
        "penis\n",
        "pericardial_adipose_tissue\n",
        "pharyngeal_mucosa\n",
        "pituitary_gland\n",
        "placenta\n",
        "pleural_tissue\n",
        "pmns\n",
        "postcentral_gyrus\n",
        "posterior_singulate\n",
        "prefrontal_cortex\n",
        "primary_visual_cortex\n",
        "prostate\n",
        "prostate_stroma\n",
        "putamen\n",
        "quadriceps_muscle\n",
        "rectum_mucosa\n",
        "renal_cortical_tissue\n",
        "retina\n",
        "retinamacula_biopsy\n",
        "retinanasal_biopsy\n",
        "retinasurround_biopsy\n",
        "saliva\n",
        "saliva_exosomes\n",
        "salivary_gland\n",
        "saphenous_vein\n",
        "seminal_vesicle\n",
        "sigmoid_colon\n",
        "sigmoid_colon_mucosa\n",
        "sinus_mucosa\n",
        "skeletal_muscle\n",
        "skin\n",
        "small_intestine\n",
        "sperm\n",
        "spinal_cord\n",
        "spleen\n",
        "sputum\n",
        "stomach\n",
        "stomach_cardiac\n",
        "stomach_fundus\n",
        "stomach_pyloric\n",
        "stratagene_universal_human_reference_rna\n",
        "substantia_nigra\n",
        "substantia_nigra_pars_compacta\n",
        "substantia_nigra_reticulata\n",
        "subthalamic_nucleus\n",
        "superior_frontal_gyrus\n",
        "synovial_membrane\n",
        "synovium\n",
        "tarsal_conjunctiva\n",
        "t_cells\n",
        "temporal_lobe\n",
        "testes\n",
        "thalamus\n",
        "thymus\n",
        "thyroid\n",
        "tongue_main_corpus\n",
        "tongue_superior\n",
        "tonsil\n",
        "tonsil_dark_zone_cells\n",
        "tonsil_epithelium\n",
        "tonsil_light_zone_cells\n",
        "trachea\n",
        "transverse_colon\n",
        "trigeminal_ganglia\n",
        "uncinate_tissue\n",
        "urethra\n",
        "uterus\n",
        "vagina\n",
        "vastus_lateralis\n",
        "ventral_tegmental_area\n",
        "vestibular_nuclei_superior\n",
        "vulva\n"
       ]
      }
     ],
     "prompt_number": 202
    },
    {
     "cell_type": "code",
     "collapsed": false,
     "input": [
      "\n",
      "gebc_tissue_gmt = open('gebc_tissue_50.gmt','w')\n",
      "for tissue_results in tissue_genes:\n",
      "    gene_list = list(set(tissue_results.index))\n",
      "    gene_list.insert(0, tissue_results.name)\n",
      "    gebc_tissue_gmt.write('\\t'.join(gene_list) + '\\n')\n",
      "    gebc_tissue_gmt.flush()\n",
      "    print len(gene_list)\n",
      "gebc_tissue_gmt.close()"
     ],
     "language": "python",
     "metadata": {},
     "outputs": [
      {
       "output_type": "stream",
       "stream": "stdout",
       "text": [
        "3532\n",
        "2365\n",
        "3307\n",
        "3245\n",
        "2942\n",
        "3068\n",
        "3995\n",
        "3731\n",
        "4789\n",
        "4075\n",
        "3919\n",
        "2697\n",
        "2844\n",
        "2531\n",
        "2477\n",
        "1722\n",
        "4087\n",
        "2402\n",
        "3042\n",
        "3821\n",
        "2364\n",
        "2888\n",
        "2576\n",
        "4022\n",
        "4304\n",
        "2210\n",
        "2654\n",
        "2614\n",
        "2810\n",
        "4431\n",
        "2636\n",
        "4191\n",
        "2816\n",
        "3881\n",
        "3026\n",
        "2387\n",
        "1888\n",
        "3987\n",
        "3158\n",
        "2031\n",
        "3309\n",
        "4404\n",
        "2445\n",
        "4390\n",
        "2457\n",
        "3544\n",
        "2520\n",
        "2795\n",
        "2483\n",
        "3390\n",
        "2963\n",
        "4438\n",
        "3371\n",
        "4129\n",
        "3180\n",
        "3016\n",
        "3771\n",
        "3687\n",
        "3717\n",
        "3849\n",
        "3909\n",
        "3744\n",
        "3357\n",
        "3382\n",
        "3117\n",
        "4393\n",
        "3854\n",
        "3660\n",
        "3595\n",
        "3434\n",
        "4749\n",
        "2624\n",
        "2734\n",
        "3323\n",
        "2277\n",
        "2720\n",
        "2844\n",
        "2227\n",
        "3101"
       ]
      },
      {
       "output_type": "stream",
       "stream": "stdout",
       "text": [
        "\n",
        "2770\n",
        "3841\n",
        "3358\n",
        "3019\n",
        "2871\n",
        "3608\n",
        "3037\n",
        "3532\n",
        "3599\n",
        "2304\n",
        "2875\n",
        "3609\n",
        "4048\n",
        "3377\n",
        "3191\n",
        "2079\n",
        "1806\n",
        "3004\n",
        "2687\n",
        "4361\n",
        "4055\n",
        "4462\n",
        "4378\n",
        "2981\n",
        "2672\n",
        "3893\n",
        "2428\n",
        "4418\n",
        "2812\n",
        "3756\n",
        "2634\n",
        "2863\n",
        "2578\n",
        "2851\n",
        "3063\n",
        "3030\n",
        "2924\n",
        "2868\n",
        "2792\n",
        "2501\n",
        "2739\n",
        "2221\n",
        "3318\n",
        "3368\n",
        "3462\n",
        "2918\n",
        "2420\n",
        "3619\n",
        "3969\n",
        "3165\n",
        "3510\n",
        "3271\n",
        "3613\n",
        "3412\n",
        "2626\n",
        "3830\n",
        "2452\n",
        "5164\n",
        "2673\n",
        "3937\n",
        "3768\n",
        "4178\n",
        "4285\n",
        "4366\n",
        "281\n",
        "1081\n",
        "2512\n",
        "2834\n",
        "4099\n",
        "2110\n",
        "3841\n",
        "2568\n",
        "2693\n",
        "3477\n",
        "3099\n",
        "2064\n",
        "2859\n",
        "3685"
       ]
      },
      {
       "output_type": "stream",
       "stream": "stdout",
       "text": [
        "\n",
        "2935\n",
        "2687\n",
        "2152\n",
        "2795\n",
        "2825\n",
        "3602\n",
        "2634\n",
        "2227\n",
        "2910\n",
        "2236\n",
        "3041\n",
        "3275\n",
        "3158\n",
        "4321\n",
        "1962\n",
        "2667\n",
        "3732\n",
        "2528\n",
        "3248\n",
        "3327\n",
        "2788\n",
        "2665\n",
        "2667\n",
        "4409\n",
        "2945\n",
        "4375\n",
        "3665\n",
        "1463\n",
        "2913\n",
        "5629\n",
        "3436\n",
        "2901\n",
        "3816\n",
        "2073\n",
        "2434\n",
        "2628\n",
        "3248\n"
       ]
      }
     ],
     "prompt_number": 201
    },
    {
     "cell_type": "code",
     "collapsed": false,
     "input": [],
     "language": "python",
     "metadata": {},
     "outputs": []
    }
   ],
   "metadata": {}
  }
 ]
}